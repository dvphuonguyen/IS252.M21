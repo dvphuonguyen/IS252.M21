{
  "cells": [
    {
      "cell_type": "markdown",
      "metadata": {
        "id": "t4p3fUe4sq3G"
      },
      "source": [
        "<H1>Bài 7 _ Thực hành"
      ]
    },
    {
      "cell_type": "markdown",
      "metadata": {
        "id": "Z5a-lSKOsq3M"
      },
      "source": [
        "<h3>(Lập trình) Xây dựng ứng dụng nhận dạng số viết tay dựa trên dữ liệu MNIST5. Đây là thư viện chữ số viết tay được gán nhãn sẵn và được hỗ trợ trực tiếp trong sklearn. "
      ]
    },
    {
      "cell_type": "markdown",
      "metadata": {
        "id": "Uuh8EfCjsq3N"
      },
      "source": [
        "<h3>Import các thư viện cần thiết"
      ]
    },
    {
      "cell_type": "code",
      "execution_count": null,
      "metadata": {
        "id": "Elacp6ptsq3O"
      },
      "outputs": [],
      "source": [
        "%matplotlib inline\n",
        "import matplotlib\n",
        "import matplotlib.pyplot as plt\n",
        "\n",
        "from sklearn.model_selection import train_test_split\n",
        "from sklearn import datasets,tree,metrics\n"
      ]
    },
    {
      "cell_type": "markdown",
      "metadata": {
        "id": "RMIZYHybsq3P"
      },
      "source": [
        "<h3>Download dữ liệu có sẵn trong thư viện sklearn"
      ]
    },
    {
      "cell_type": "code",
      "execution_count": null,
      "metadata": {
        "id": "04dF7Ddpsq3Q"
      },
      "outputs": [],
      "source": [
        "digits = datasets.load_digits()"
      ]
    },
    {
      "cell_type": "markdown",
      "metadata": {
        "id": "xg8fDLSSsq3R"
      },
      "source": [
        "<h3>Biểu diễn 4 mẫu dữ liệu huấn luyện tương ứng với 4 lớp 0, 1, 2, 3"
      ]
    },
    {
      "cell_type": "code",
      "execution_count": null,
      "metadata": {
        "id": "SZ8kqqQKsq3S",
        "outputId": "7de1bab8-7045-4017-d03f-ae9b4cca0197"
      },
      "outputs": [
        {
          "data": {
            "image/png": "[encoded data removed]",
            "text/plain": [
              "<Figure size 432x288 with 4 Axes>"
            ]
          },
          "metadata": {
            "needs_background": "light"
          },
          "output_type": "display_data"
        }
      ],
      "source": [
        "_, axes =plt.subplots(1,4)\n",
        "images_and_labels = list(zip(digits.images,digits.target))\n",
        "for ax,(image,label) in zip(axes,images_and_labels[:4]):\n",
        "    ax.set_axis_off()\n",
        "    ax.imshow(image,cmap=plt.cm.gray_r,interpolation='nearest')\n",
        "    ax.set_title('Trianing:%i'% label)\n",
        "plt.show()"
      ]
    },
    {
      "cell_type": "markdown",
      "metadata": {
        "id": "6ygBBNjRsq3T"
      },
      "source": [
        "<h3>Chuyển đổi mỗi đối tượng hình ảnh – ma trận 8x8 thành ma trận 1x64 để thỏa yêu cầu đầu vào của thuật toán."
      ]
    },
    {
      "cell_type": "code",
      "execution_count": null,
      "metadata": {
        "id": "xVehqxArsq3T"
      },
      "outputs": [],
      "source": [
        "n_samples=len(digits.images)\n",
        "data = digits.images.reshape((n_samples,-1))"
      ]
    },
    {
      "cell_type": "markdown",
      "metadata": {
        "id": "3oi7vlHSsq3U"
      },
      "source": [
        "<h3>Sử dụng thuật toán cây ID3"
      ]
    },
    {
      "cell_type": "code",
      "execution_count": null,
      "metadata": {
        "id": "EZxwO3g1sq3U"
      },
      "outputs": [],
      "source": [
        "classifer = tree.DecisionTreeClassifier(criterion=\"entropy\",random_state=33)"
      ]
    },
    {
      "cell_type": "markdown",
      "metadata": {
        "id": "GBXPT8hMsq3V"
      },
      "source": [
        "<h3>Chia dữ liệu thành hai phần: huấn luyện 80%, kiểm thử 20%"
      ]
    },
    {
      "cell_type": "code",
      "execution_count": null,
      "metadata": {
        "id": "qSsGOCe4sq3V"
      },
      "outputs": [],
      "source": [
        "x_train,x_test,y_train,y_test = train_test_split(data,digits.target,test_size=0.2,shuffle=False)"
      ]
    },
    {
      "cell_type": "markdown",
      "metadata": {
        "id": "NX63eI2xsq3V"
      },
      "source": [
        "<h3>Tiến hành xây dựng cây ID3"
      ]
    },
    {
      "cell_type": "code",
      "execution_count": null,
      "metadata": {
        "id": "b9i7oVFRsq3W",
        "outputId": "fdd74948-a8cc-40c4-e4c5-89f133e92ee2"
      },
      "outputs": [
        {
          "data": {
            "text/plain": [
              "DecisionTreeClassifier(criterion='entropy', random_state=33)"
            ]
          },
          "execution_count": 7,
          "metadata": {},
          "output_type": "execute_result"
        }
      ],
      "source": [
        "classifer.fit(x_train,y_train)"
      ]
    },
    {
      "cell_type": "markdown",
      "metadata": {
        "id": "ASNgrI-Usq3W"
      },
      "source": [
        "<h3>Dự đoán nhãn dữ liệu cho tập kiểm thử"
      ]
    },
    {
      "cell_type": "code",
      "execution_count": null,
      "metadata": {
        "id": "BghljC7Vsq3W"
      },
      "outputs": [],
      "source": [
        "predicted = classifer.predict(x_test)"
      ]
    },
    {
      "cell_type": "markdown",
      "metadata": {
        "id": "QGkBNaaSsq3W"
      },
      "source": [
        "<h3>Biểu diễn một vài kết quả dự đoán"
      ]
    },
    {
      "cell_type": "code",
      "execution_count": null,
      "metadata": {
        "id": "OOKF-5Nosq3X",
        "outputId": "880878f0-38c0-4a9a-9d09-b830d5946bee"
      },
      "outputs": [
        {
          "data": {
            "image/png": "[encoded data removed]",
            "text/plain": [
              "<Figure size 432x288 with 4 Axes>"
            ]
          },
          "metadata": {
            "needs_background": "light"
          },
          "output_type": "display_data"
        }
      ],
      "source": [
        "_, axes =plt.subplots(1,4)\n",
        "images_and_predictions = list(zip(digits.images[n_samples//2:],predicted))\n",
        "for ax,(image,prediction) in zip(axes,images_and_predictions[:4]):\n",
        "    ax.set_axis_off()\n",
        "    ax.imshow(image,cmap=plt.cm.gray_r,interpolation='nearest')\n",
        "    ax.set_title('Prediction:%i'% prediction)\n",
        "plt.show()"
      ]
    },
    {
      "cell_type": "markdown",
      "metadata": {
        "id": "yWk9-Y2isq3X"
      },
      "source": [
        "<h3>Thông số đạt được của cây ID3"
      ]
    },
    {
      "cell_type": "code",
      "execution_count": null,
      "metadata": {
        "id": "Z7F8IqRjsq3X",
        "outputId": "002d5197-3bf1-45a4-91bd-f7e7948ab4db"
      },
      "outputs": [
        {
          "name": "stdout",
          "output_type": "stream",
          "text": [
            "Classificaion report for classifier DecisionTreeClassifier(criterion='entropy', random_state=33):\n",
            "              precision    recall  f1-score   support\n",
            "\n",
            "           0       0.86      0.89      0.87        35\n",
            "           1       0.72      0.64      0.68        36\n",
            "           2       0.76      0.74      0.75        35\n",
            "           3       0.69      0.59      0.64        37\n",
            "           4       0.86      0.84      0.85        37\n",
            "           5       0.80      0.95      0.86        37\n",
            "           6       0.97      0.95      0.96        37\n",
            "           7       0.78      0.86      0.82        36\n",
            "           8       0.79      0.82      0.81        33\n",
            "           9       0.72      0.70      0.71        37\n",
            "\n",
            "    accuracy                           0.80       360\n",
            "   macro avg       0.80      0.80      0.79       360\n",
            "weighted avg       0.80      0.80      0.79       360\n",
            "\n",
            "\n",
            "Confustion matri:\\m[[31  0  0  0  1  0  0  0  1  2]\n",
            " [ 0 23  0  2  2  0  0  1  1  7]\n",
            " [ 1  2 26  0  0  1  0  3  2  0]\n",
            " [ 0  4  2 22  0  4  0  1  3  1]\n",
            " [ 2  0  1  0 31  1  0  2  0  0]\n",
            " [ 0  0  0  1  1 35  0  0  0  0]\n",
            " [ 0  1  1  0  0  0 35  0  0  0]\n",
            " [ 0  0  2  2  1  0  0 31  0  0]\n",
            " [ 0  1  2  1  0  0  1  1 27  0]\n",
            " [ 2  1  0  4  0  3  0  1  0 26]]\n"
          ]
        },
        {
          "name": "stderr",
          "output_type": "stream",
          "text": [
            "C:\\Users\\phuon\\AppData\\Local\\Programs\\Python\\Python38\\lib\\site-packages\\sklearn\\utils\\deprecation.py:87: FutureWarning: Function plot_confusion_matrix is deprecated; Function `plot_confusion_matrix` is deprecated in 1.0 and will be removed in 1.2. Use one of the class methods: ConfusionMatrixDisplay.from_predictions or ConfusionMatrixDisplay.from_estimator.\n",
            "  warnings.warn(msg, category=FutureWarning)\n"
          ]
        },
        {
          "data": {
            "image/png": "[encoded data removed]",
            "text/plain": [
              "<Figure size 432x288 with 2 Axes>"
            ]
          },
          "metadata": {
            "needs_background": "light"
          },
          "output_type": "display_data"
        }
      ],
      "source": [
        "print(\"Classificaion report for classifier %s:\\n%s\\n\"%(classifer,metrics.classification_report(y_test,predicted)))\n",
        "disp = metrics.plot_confusion_matrix(classifer,x_test,y_test)\n",
        "disp.figure_.suptitle(\"Confusion Matrix\")\n",
        "print(\"Confustion matri:\\m%s\"% disp.confusion_matrix)"
      ]
    },
    {
      "cell_type": "markdown",
      "metadata": {
        "id": "hd6AURxksq3Y"
      },
      "source": [
        "<h3>Cài đặt thư viện xử lý hình ảnh pillow cho Python và import vào"
      ]
    },
    {
      "cell_type": "code",
      "execution_count": null,
      "metadata": {
        "id": "K0t7kGYCsq3Y"
      },
      "outputs": [],
      "source": [
        "from PIL import Image,ImageOps\n",
        "import numpy as np"
      ]
    },
    {
      "cell_type": "markdown",
      "metadata": {
        "id": "H5zkP6HJsq3Y"
      },
      "source": [
        "<h3>Chụp ảnh một chữ số viết tay bất kỳ, cắt theo hình vuông sát với ký tự như hình minh họa dưới đây"
      ]
    },
    {
      "cell_type": "markdown",
      "source": [
        "![sample_1.jpg](data:image/jpeg;base64,/9j/4AAQSkZJRgABAQEASABIAAD/4St4RXhpZgAATU0AKgAAAAgADQALAAIAAAAmAAAItgEPAAIAAAAHAAAI3AEQAAIAAAANAAAI5AESAAMAAAABAAEAAAEaAAUAAAABAAAI8gEbAAUAAAABAAAI+gEoAAMAAAABAAIAAAExAAIAAAAmAAAJAgEyAAIAAAAUAAAJKAITAAMAAAABAAEAAIdpAAQAAAABAAAJPIglAAQAAAABAAATbOocAAcAAAgMAAAAqgAAFEgc6gAAAAgAAAAAAAAAAAAAAAAAAAAAAAAAAAAAAAAAAAAAAAAAAAAAAAAAAAAAAAAAAAAAAAAAAAAAAAAAAAAAAAAAAAAAAAAAAAAAAAAAAAAAAAAAAAAAAAAAAAAAAAAAAAAAAAAAAAAAAAAAAAAAAAAAAAAAAAAAAAAAAAAAAAAAAAAAAAAAAAAAAAAAAAAAAAAAAAAAAAAAAAAAAAAAAAAAAAAAAAAAAAAAAAAAAAAAAAAAAAAAAAAAAAAAAAAAAAAAAAAAAAAAAAAAAAAAAAAAAAAAAAAAAAAAAAAAAAAAAAAAAAAAAAAAAAAAAAAAAAAAAAAAAAAAAAAAAAAAAAAAAAAAAAAAAAAAAAAAAAAAAAAAAAAAAAAAAAAAAAAAAAAAAAAAAAAAAAAAAAAAAAAAAAAAAAAAAAAAAAAAAAAAAAAAAAAAAAAAAAAAAAAAAAAAAAAAAAAAAAAAAAAAAAAAAAAAAAAAAAAAAAAAAAAAAAAAAAAAAAAAAAAAAAAAAAAAAAAAAAAAAAAAAAAAAAAAAAAAAAAAAAAAAAAAAAAAAAAAAAAAAAAAAAAAAAAAAAAAAAAAAAAAAAAAAAAAAAAAAAAAAAAAAAAAAAAAAAAAAAAAAAAAAAAAAAAAAAAAAAAAAAAAAAAAAAAAAAAAAAAAAAAAAAAAAAAAAAAAAAAAAAAAAAAAAAAAAAAAAAAAAAAAAAAAAAAAAAAAAAAAAAAAAAAAAAAAAAAAAAAAAAAAAAAAAAAAAAAAAAAAAAAAAAAAAAAAAAAAAAAAAAAAAAAAAAAAAAAAAAAAAAAAAAAAAAAAAAAAAAAAAAAAAAAAAAAAAAAAAAAAAAAAAAAAAAAAAAAAAAAAAAAAAAAAAAAAAAAAAAAAAAAAAAAAAAAAAAAAAAAAAAAAAAAAAAAAAAAAAAAAAAAAAAAAAAAAAAAAAAAAAAAAAAAAAAAAAAAAAAAAAAAAAAAAAAAAAAAAAAAAAAAAAAAAAAAAAAAAAAAAAAAAAAAAAAAAAAAAAAAAAAAAAAAAAAAAAAAAAAAAAAAAAAAAAAAAAAAAAAAAAAAAAAAAAAAAAAAAAAAAAAAAAAAAAAAAAAAAAAAAAAAAAAAAAAAAAAAAAAAAAAAAAAAAAAAAAAAAAAAAAAAAAAAAAAAAAAAAAAAAAAAAAAAAAAAAAAAAAAAAAAAAAAAAAAAAAAAAAAAAAAAAAAAAAAAAAAAAAAAAAAAAAAAAAAAAAAAAAAAAAAAAAAAAAAAAAAAAAAAAAAAAAAAAAAAAAAAAAAAAAAAAAAAAAAAAAAAAAAAAAAAAAAAAAAAAAAAAAAAAAAAAAAAAAAAAAAAAAAAAAAAAAAAAAAAAAAAAAAAAAAAAAAAAAAAAAAAAAAAAAAAAAAAAAAAAAAAAAAAAAAAAAAAAAAAAAAAAAAAAAAAAAAAAAAAAAAAAAAAAAAAAAAAAAAAAAAAAAAAAAAAAAAAAAAAAAAAAAAAAAAAAAAAAAAAAAAAAAAAAAAAAAAAAAAAAAAAAAAAAAAAAAAAAAAAAAAAAAAAAAAAAAAAAAAAAAAAAAAAAAAAAAAAAAAAAAAAAAAAAAAAAAAAAAAAAAAAAAAAAAAAAAAAAAAAAAAAAAAAAAAAAAAAAAAAAAAAAAAAAAAAAAAAAAAAAAAAAAAAAAAAAAAAAAAAAAAAAAAAAAAAAAAAAAAAAAAAAAAAAAAAAAAAAAAAAAAAAAAAAAAAAAAAAAAAAAAAAAAAAAAAAAAAAAAAAAAAAAAAAAAAAAAAAAAAAAAAAAAAAAAAAAAAAAAAAAAAAAAAAAAAAAAAAAAAAAAAAAAAAAAAAAAAAAAAAAAAAAAAAAAAAAAAAAAAAAAAAAAAAAAAAAAAAAAAAAAAAAAAAAAAAAAAAAAAAAAAAAAAAAAAAAAAAAAAAAAAAAAAAAAAAAAAAAAAAAAAAAAAAAAAAAAAAAAAAAAAAAAAAAAAAAAAAAAAAAAAAAAAAAAAAAAAAAAAAAAAAAAAAAAAAAAAAAAAAAAAAAAAAAAAAAAAAAAAAAAAAAAAAAAAAAAAAAAAAAAAAAAAAAAAAAAAAAAAAAAAAAAAAAAAAAAAAAAAAAAAAAAAAAAAAAAAAAAAAAAAAAAAAAAAAAAAAAAAAAAAAAAAAAAAAAAAAAAAAAAAAAAAAAAAAAAAAAAAAAAAAAAAAAAAAAAAAAAAAAAAAAAAAAAAAAAAAAAAAAAAAAAAAAAAAAAAAAAAAAAAAAAAAAAAAAAAAAAAAAAAAAAAAAAAAAAAAAAAAAAAAAAAAAAAAAAAAAAAAAAAAAAAAAAAAAAAAAAAAAAAAAAAAAAAAAAAAAAAAAAAAAAAAAAAAAAAAAAAAAAAAAAAAAAAAAAAAAAAAAAAAAAAAAAAAAAAAAAAAAAAAAAAAAAAAAAAAAAAAAAAAAAAAAAAAAAAAAAAAAAAAAAAAAAAAAAAAAAAAAAAAAAAAAAAAAAAAAAAAAAAAAAAAAAAAAAAAAAAAAAAAAAAAAAAAAAAAAAAAAAAAAAAAAAAAAAAAAAAAAAAAAAAAAAAAAAAAAAAAAAAAAAAAAAAAAAAAAAAAAAAAAAAAAAAAAAAAAAAAAAAAAAAAAAAAAAAAAAAAAAAAAAAAAAAAAAAAAAAAAAAAAAAAAAAAAAAAAAAAAAAAAAAAAAAAAAAAAAAAAAAAAAAAAAAAAAAAAAAAAAAAAAAAAAAAAAAAAAAAAAAAAAAAAAAAAAAAAAAAAAAAAAAAAFdpbmRvd3MgUGhvdG8gRWRpdG9yIDEwLjAuMTAwMTEuMTYzODQAWGlhb21pAABSZWRtaSBOb3RlIDUAAAAAAEgAAAABAAAASAAAAAFXaW5kb3dzIFBob3RvIEVkaXRvciAxMC4wLjEwMDExLjE2Mzg0ADIwMjA6MDU6MDYgMTM6Mzk6MzYAAB+CmgAFAAAAAQAAEsKCnQAFAAAAAQAAEsqIIgADAAAAAQAAAACIJwADAAAAAQDIAACIiQACAAAABEhIVACQAAAHAAAABDAyMjCQAwACAAAAFAAAEtKQBAACAAAAFAAAEuaRAQAHAAAABAECAwCSAQAKAAAAAQAAEvqSAgAFAAAAAQAAEwKSAwAKAAAAAQAAEwqSBwADAAAAAQABAACSCQADAAAAAQAQAACSCgAFAAAAAQAAExKSkAACAAAABwAAExqSkQACAAAABwAAEyKSkgACAAAABwAAEyqZmQACAAAAJgAAEzKgAAAHAAAABDAxMDCgAQADAAAAAQABAACgAgAEAAAAAQAAD6CgAwAEAAAAAQAAB9CgBQAEAAAAAQAAE1iiFwADAAAAAQACAACjAQAHAAAAAQEAAACkAgADAAAAAQAAAACkAwADAAAAAQAAAACkBQADAAAAAQAYAACkBgADAAAAAQAAAADqHAAHAAAIDAAACrYAAAAAHOoAAAAIAAAAAAAAAAAAAAAAAAAAAAAAAAAAAAAAAAAAAAAAAAAAAAAAAAAAAAAAAAAAAAAAAAAAAAAAAAAAAAAAAAAAAAAAAAAAAAAAAAAAAAAAAAAAAAAAAAAAAAAAAAAAAAAAAAAAAAAAAAAAAAAAAAAAAAAAAAAAAAAAAAAAAAAAAAAAAAAAAAAAAAAAAAAAAAAAAAAAAAAAAAAAAAAAAAAAAAAAAAAAAAAAAAAAAAAAAAAAAAAAAAAAAAAAAAAAAAAAAAAAAAAAAAAAAAAAAAAAAAAAAAAAAAAAAAAAAAAAAAAAAAAAAAAAAAAAAAAAAAAAAAAAAAAAAAAAAAAAAAAAAAAAAAAAAAAAAAAAAAAAAAAAAAAAAAAAAAAAAAAAAAAAAAAAAAAAAAAAAAAAAAAAAAAAAAAAAAAAAAAAAAAAAAAAAAAAAAAAAAAAAAAAAAAAAAAAAAAAAAAAAAAAAAAAAAAAAAAAAAAAAAAAAAAAAAAAAAAAAAAAAAAAAAAAAAAAAAAAAAAAAAAAAAAAAAAAAAAAAAAAAAAAAAAAAAAAAAAAAAAAAAAAAAAAAAAAAAAAAAAAAAAAAAAAAAAAAAAAAAAAAAAAAAAAAAAAAAAAAAAAAAAAAAAAAAAAAAAAAAAAAAAAAAAAAAAAAAAAAAAAAAAAAAAAAAAAAAAAAAAAAAAAAAAAAAAAAAAAAAAAAAAAAAAAAAAAAAAAAAAAAAAAAAAAAAAAAAAAAAAAAAAAAAAAAAAAAAAAAAAAAAAAAAAAAAAAAAAAAAAAAAAAAAAAAAAAAAAAAAAAAAAAAAAAAAAAAAAAAAAAAAAAAAAAAAAAAAAAAAAAAAAAAAAAAAAAAAAAAAAAAAAAAAAAAAAAAAAAAAAAAAAAAAAAAAAAAAAAAAAAAAAAAAAAAAAAAAAAAAAAAAAAAAAAAAAAAAAAAAAAAAAAAAAAAAAAAAAAAAAAAAAAAAAAAAAAAAAAAAAAAAAAAAAAAAAAAAAAAAAAAAAAAAAAAAAAAAAAAAAAAAAAAAAAAAAAAAAAAAAAAAAAAAAAAAAAAAAAAAAAAAAAAAAAAAAAAAAAAAAAAAAAAAAAAAAAAAAAAAAAAAAAAAAAAAAAAAAAAAAAAAAAAAAAAAAAAAAAAAAAAAAAAAAAAAAAAAAAAAAAAAAAAAAAAAAAAAAAAAAAAAAAAAAAAAAAAAAAAAAAAAAAAAAAAAAAAAAAAAAAAAAAAAAAAAAAAAAAAAAAAAAAAAAAAAAAAAAAAAAAAAAAAAAAAAAAAAAAAAAAAAAAAAAAAAAAAAAAAAAAAAAAAAAAAAAAAAAAAAAAAAAAAAAAAAAAAAAAAAAAAAAAAAAAAAAAAAAAAAAAAAAAAAAAAAAAAAAAAAAAAAAAAAAAAAAAAAAAAAAAAAAAAAAAAAAAAAAAAAAAAAAAAAAAAAAAAAAAAAAAAAAAAAAAAAAAAAAAAAAAAAAAAAAAAAAAAAAAAAAAAAAAAAAAAAAAAAAAAAAAAAAAAAAAAAAAAAAAAAAAAAAAAAAAAAAAAAAAAAAAAAAAAAAAAAAAAAAAAAAAAAAAAAAAAAAAAAAAAAAAAAAAAAAAAAAAAAAAAAAAAAAAAAAAAAAAAAAAAAAAAAAAAAAAAAAAAAAAAAAAAAAAAAAAAAAAAAAAAAAAAAAAAAAAAAAAAAAAAAAAAAAAAAAAAAAAAAAAAAAAAAAAAAAAAAAAAAAAAAAAAAAAAAAAAAAAAAAAAAAAAAAAAAAAAAAAAAAAAAAAAAAAAAAAAAAAAAAAAAAAAAAAAAAAAAAAAAAAAAAAAAAAAAAAAAAAAAAAAAAAAAAAAAAAAAAAAAAAAAAAAAAAAAAAAAAAAAAAAAAAAAAAAAAAAAAAAAAAAAAAAAAAAAAAAAAAAAAAAAAAAAAAAAAAAAAAAAAAAAAAAAAAAAAAAAAAAAAAAAAAAAAAAAAAAAAAAAAAAAAAAAAAAAAAAAAAAAAAAAAAAAAAAAAAAAAAAAAAAAAAAAAAAAAAAAAAAAAAAAAAAAAAAAAAAAAAAAAAAAAAAAAAAAAAAAAAAAAAAAAAAAAAAAAAAAAAAAAAAAAAAAAAAAAAAAAAAAAAAAAAAAAAAAAAAAAAAAAAAAAAAAAAAAAAAAAAAAAAAAAAAAAAAAAAAAAAAAAAAAAAAAAAAAAAAAAAAAAAAAAAAAAAAAAAAAAAAAAAAAAAAAAAAAAAAAAAAAAAAAAAAAAAAAAAAAAAAAAAAAAAAAAAAAAAAAAAAAAAAAAAAAAAAAAAAAAAAAAAAAAAAAAAAAAAAAAAAAAAAAAAAAAAAAAAAAAAAAAAAAAAAAAAAAAAAAAAAAAAAAAAAAAAAAAAAAAAAAAAAAAAAAAAAAAAAAAAAAAAAAAAAAAAAAAAAAAAAAAAAAAAAAAAAAAAAAAAAAAAAAAAAAAAAAAAAAAAAAAAAAAAAAAAAAAAAAAAAAAAAAAAAAAAAAAAAAAAAAAAAAAAAAAAAAAAAAAAAAAAAAAAAAAAAAAAAAAAAAAAAAAAAAAAAAAAAAAAAAAAAAAAAAAAAAAAAAAAAAAAAAAAAAAAAAAAAAAAAAAAAAAAAAAAAAAAAAAAAAAAAAAAAAAAAAAAAAAAAAAAAAAAAAAAAAAAAAAAAAAAAAAAAAAAAAAAAAAAAAAAAAAAAAAAAAAAAAAAAAAAAAAAAAAAAAAAAAAAAAAAAAAAAAAAAAAAAAAAAAAAAAAAAAAAAAAAAAAAAAAAAAAAAAABAAAAKAAAAL4AAABkMjAyMDowNTowNiAxMToxMzoyOQAyMDIwOjA1OjA2IDExOjEzOjI5AAAAFMkAAAPoAAAAuQAAAGQAAAC1AAAAZAAAD2QAAAPoOTk2NjA1AAA5OTY2MDUAADk5NjYwNQAAeyJzZW5zb3JfdHlwZSI6InJlYXIiLCJtaXJyb3IiOmZhbHNlfQAAAQACAAcAAAAEMDEwMAAAAAAAAAAJAAEAAgAAAAJOAAAAAAIABQAAAAMAABPeAAMAAgAAAAJFAAAAAAQABQAAAAMAABP2AAUAAQAAAAEAAAAAAAYABQAAAAEAABQOAAcABQAAAAMAABQWABsAAgAAAAwAABQuAB0AAgAAAAsAABQ6AAAAAAAAAAoAAAABAAAAKQAAAAEAAOoxAAAnEAAAAGsAAAABAAAAAgAAAAEABGoQAAAnEAAAJ7MAAAPoAAAABAAAAAEAAAANAAAAAQAAAB0AAAABQVNDSUkAAABHUFMAMjAyMDowNTowNgAAAAAABgEDAAMAAAABAAYAAAEaAAUAAAABAAAUlgEbAAUAAAABAAAUngEoAAMAAAABAAIAAAIBAAQAAAABAAAUpgICAAQAAAABAAAWygAAAAAAAABgAAAAAQAAAGAAAAAB/9j/2wBDAAgGBgcGBQgHBwcJCQgKDBQNDAsLDBkSEw8UHRofHh0aHBwgJC4nICIsIxwcKDcpLDAxNDQ0Hyc5PTgyPC4zNDL/2wBDAQkJCQwLDBgNDRgyIRwhMjIyMjIyMjIyMjIyMjIyMjIyMjIyMjIyMjIyMjIyMjIyMjIyMjIyMjIyMjIyMjIyMjL/wAARCAD/AQADASEAAhEBAxEB/8QAHwAAAQUBAQEBAQEAAAAAAAAAAAECAwQFBgcICQoL/8QAtRAAAgEDAwIEAwUFBAQAAAF9AQIDAAQRBRIhMUEGE1FhByJxFDKBkaEII0KxwRVS0fAkM2JyggkKFhcYGRolJicoKSo0NTY3ODk6Q0RFRkdISUpTVFVWV1hZWmNkZWZnaGlqc3R1dnd4eXqDhIWGh4iJipKTlJWWl5iZmqKjpKWmp6ipqrKztLW2t7i5usLDxMXGx8jJytLT1NXW19jZ2uHi4+Tl5ufo6erx8vP09fb3+Pn6/8QAHwEAAwEBAQEBAQEBAQAAAAAAAAECAwQFBgcICQoL/8QAtREAAgECBAQDBAcFBAQAAQJ3AAECAxEEBSExBhJBUQdhcRMiMoEIFEKRobHBCSMzUvAVYnLRChYkNOEl8RcYGRomJygpKjU2Nzg5OkNERUZHSElKU1RVVldYWVpjZGVmZ2hpanN0dXZ3eHl6goOEhYaHiImKkpOUlZaXmJmaoqOkpaanqKmqsrO0tba3uLm6wsPExcbHyMnK0tPU1dbX2Nna4uPk5ebn6Onq8vP09fb3+Pn6/9oADAMBAAIRAxEAPwDr+c0uagoKSkAUUAFFAC9qSgAowKYhDRigAzzTTSGLTTQAlYmt6rPaM0drIFKYB+XJY1E5WR1YSkqlSz2KUuozajLChPliQ7TH1A961NOsVsPPVSTvcHOMZwP/ANdRD3nc6sSo0oezRe60CtjzRaWgQlHegBKWgANFAFukpiCkNAC0UgFNJTAD0opAFJTAU0lABxTcGkAZqOVwiFicY70FJXZRudWhtbRpeHkJwig9ff6VxQlkvL8q8zEZLHnoa5asrux7uAw/JFzZq6PCJNVaTy90MK4B5+UmuoGO1aUtjhx8r1LDvxoGK1OABS0xBRQAlFABS0AWzSUxC4pKACjvQAYooEBoFABRQAhoHrQMOKQUgGMcZzgVXlvI4ovMZS0eMnjtSbsbU4OTscVq12r3LSW6kxOcIGPQVn2bS27zugVuMEvXDJ3lc+qpw5afKzrfDyJ/ZUUq53SZZwfXOP6VrjiuuHwnzWKd6sh3UUc5qzmFHFLTEGaKAEo5oAWgUAW8UmKYgzg0c0AFFAC0lAgpaBiUmaAF7UmKQBSZoAa2NpJ6Vz3iK4ZdlurFVK7n57elZ1XaJ6GAjzVUcxHFNfzsYAcRjJIHQetQNNJtkiZssWC5xj2rjPo21qj0CCEQW8MS4+SMLx34qTHY13LY+SqO8mx3TpQOTTMxaWgBaKYgooAPwooAt0UxAR7UgzmgBaBQAUtAhO9BoGFJSAKPwoAMVCwZQzDuelDKiUr3U1s4Ay7Xmb7qnpXIanevOzFiWdvvECuarK+h7mX0OVc7NSztn0jw1JOyhZrjAIPYHoKwtJtxd+JIVYZRTvbPfFQ1qkdMKl4VKnqd4zZYmius+bYuaUUCFHWnUAHeimIKSgBe9FAFugUyQ700Hd0oGL0FAoAWigQtIaADIo7UhhRTASkbG0kkBQMmkyo7nFarel52mDf7KKewqlpVu1/qUaFC8cZ3yemPSuJ6yPqIr2dC/ZG94huVNrDGHyOWK46VR8KWnNzfE9T5Se/rWlr1Dh5uTBvzOkoroPGDvTqBCrTu1ACUd6Yh1IaAEpaALdApiCkxigAOcUtAB70tAhKKBiEZFLjAoAQdTS0AIayNcuvJhWFWKs4y/wDu1FR2idWDhz1Ujj55A7tIV+ReK6jw7beTpQlKYe4YsT3x2rmpK8j2cfJxo27md4mKRT4Tp5YyPTNXPDQ/4p6BgMFncnPfmrj/ABGc1f8A3OJq0vNbnkBThQIUdKDzTABS0CF6UlAB0pM80AXMAUUxCY5pcDFAhCvOfTpSqOOtAwopAL2pMGmAd6CaQAPyo4/Ogdird6ha2bMstxGsijOwnk1x+pX8lzKZGI3SHgD0rCrPoj2cuw7i+eRSjtmur2Kyj3HJ+Yiu4jkgjjSNGCJGmADxwKmj1ZWZNycYI47xLdpcXs7xt+7wAp+grpdIgNvotnEx5Eefz5op6zbFjVyYaEWXO/NFdB44UooELz2o5piClFABRmgBaTHegC3nmlpkhS0DFpvegQd6WgYYzR0oEMIycg4pxxQUNqlqNxNDbj7MULHgq3Ue4qJOyOjDwUqiTOSvpRIWjUBlQ8ueST3OaYyGK2N2xX5uEBPb1rjbufSxXKki34Yj2vPeMCWxtUnpjvzV6/vPMcRjaUTDMc9fQVqtIHn1EqmJfkcnqBZncsCd5yPpXoEGPssGOnlLj8qVHdizRe5Ekxxmiuk8USloEFGaAFpc0xC0YoASloAt96KYgFLQAE4pPwoELxS0AFFADdvpRkdKBi7ARXNa/exgsUX58FI8H8zWVV2iehl8HKrc5tWDzRW64A/iPt3p1z++uI7SEMwY/Kua5EfQy0O1sLZbKySBcAgZbAHJrKnS3OqSbURY3XLleBwOv1zXTJWikeFQm51ZSRyd7Ikl0yI+4KMV3lkwbTrRs5zCv8qzo7s680X7uJYpO9dJ4YuKPpQIKOtACjpS0xBzmloAWj60AWsUUyQ6UtAB3ooGBpaQBSUAGcUEAj6UAUNVu2tbXyQvM4I3YztHeuLmkDl5t5ZRlYwa5qz1se/llO0ObuLbg2kcjMoMjgAk9u/+FaPhyyFxdy6hJgrE2EX1aogrySOrFVOWlKR03mpHEzthcKTzXMbt/wBskOQEjxx0yxraozy8DF6s5phv1Djpgn613WjNu0S0P91Sv5GsqG52Zqv3aLvXilrqPACk70AFLj0oAd2opiCgUALS0AXKTHrTJCigAooGJS0gFo6UwG8EZoJCAs2MDkkmkNK7schrGqSzSMFwfM+SPjG1fWsmG23zpCo/dp8zt7e9cU3zSPqsPBUqSQk0z3EgSP70r7VrtrGzSxso7dCCFHzHGMn1rSiru5xZnPliodypqcoji+zOnzvyAeeBzmsb5xoks+QBLPgADqAKKj1YsIrQXmzmowXuHIz7fnXbeH8jSihwNkrDA9+aih8Rvmn8I0+/WnZrrPnhKWgQd6XtQAtFMQUUALRQBepDTJEpKADNFADS2PpTsccUhhg78g/LjpTu1MAwOtZ2s3LW9rsVyDIDuH+yKiekTfCx5qqRxDPlpbkkY+6g9KsoJLPRWll+WS7bK/7o6VxLufUySSUS14UsxdXr30i5SD5Y/Td/+qutbkHNdNFWieDmVTmr27GFraBJIzFKxxE2UJyF57VnXOIvCtmpVizFpN35/wCNRPdnZhdYQ9Tn7LYyTnBJGMV1fh6RTDdRjjDq3PuKijub5im6TNmndq6z50SlFAgpe1ACUtMQtFABRQBeopkiUDpQAhpM0AHBHNOHFABS0ABZVUsxwqjLH0Fcdrd691NgdZDhRnov/wCqsaz0senllO9TmMyC0OoXaWcR2xR/PKx7KOtSasz6jqkNrASfm2ogPArmS0PclNc930R2VnZx2FnHaw/djHJ9T3NT4xXbFWVj5arNzm5PqY/iDho2/wCmBx+dYepOH0HTgDgCI5H41z1ep7OB1jAw7BS0c2B1YCuo0Hi8ulx1iU/rWdLdHTj/AOFJG9RXYfNhS0CCigAHWlpiDvS0AFFAF7NLTJExR0oAbznmk6UAAbI4p2aACigChq84js/L3FTKefTaOtcW0yym4umIG35I/Q+tctZ6nv5XC1PmJ7TdpujSTOSJ7tt3uEHStHwtYZ83VJeXdikWR0Hc1NNXkka4upy0ZSXXQ6UUtdZ84Y/iEErb47o4/lXM3T/8Sm1TgkRsP/HjXLW3Z9Bl2sIkHh+ISXSrzgyf0rd0P/j/ALoj/nkPx5pUuheOekl5G2MinV1Hz4UtAgpKAFo70xC0tABRQBeopkhS470AJimkZ4oAMYFA6UAHrThyaAOa8RXg810VuUHlqB3Pf/PtXN3MYM1vYLkZYBiPfqa4qjvI+nwUeWii9qMjXt7HaxAfOwQADoBx/KuxhgjtreK3iGI4lCitaOrbOHMpcsIwJKK3PHMzXVLQ256cuufwFcTKzx20iMcgPgfTNclfc+iyvWmW/DH/ACEAP7hZv0rX0UMdRuMcBY+n406XQWNes/Q2hS10ngC0maAHUUAFL2oEFFMBaKAL9L2pkiY9aWgA7UnagBGFNoAKch2ncewzSGtzibhi94rOM7VMze57fzrKglcXLXhOMbtozXDLc+toL3EbHhi2e41J7yTIWIZz6sRXW44rpor3Tw8ynetbsFLWp5xS1Zd1nEe6zAfmDXn1xlvtH/XSuXEbn0OUfwy94YH/ABOJBkD9wxrb0RcXF2f9lefxNFLoLHbz9EbHFArpPBFxRQAcUUAFLTELRQAtFAF+jqKZItJmgBaO1AhDTSPQUDEFDAtG6jqUYD8qQ1ucJeyFRKq43mFcD19aymDbUhxiRsfKOc+grglufX0bKFzv9KsP7O0yKBv9ZjfIc/xGrvau2KsrHy1efPUcgPtS1RiVNUDfYN4/gkVv5j+tefXg2xTZ4bzMVy4jc+gyh+4y94aCi9upMcrbHHtW1oo+a6fOMlRj86dLZEY96z+Rr0V0HiBS9qAD8KXFABRTEKKM80AJTs0AXjS9ulMkKBQAUUAFJg0CCk8xYVaZzhEGSaGVFXdkeday5eeIrGSjszKynBXJ6VN4d05rnXxMxDR2w3tk9+wrgSvM+rqTVPDN+R3J5OfejvXcfKsdR3oEUtYbZo8x/wBpR+tcBqDBoJmGceZXLiHqfQ5Qv3bfmX9AYK9+5z/x7gA/WtvQwfskzE53SY4PoKdLoZ5hpz/I1BS10Hih1paBBRmgBTQBTELRQAUdqANDtRmmSHeigApaBBjikoAQ1heJpLk2ghtl3owJYoc4wO9RU+E68Gl7ZORz+p7LUlnIKxRgKPUkV0Ph2yez0dTKgEs7eYT7HoKwpL3j1cfUtQt3NXvS966TwRaBzQBm6/Lt0sxjGXYHn2rhtQU+VMuP4x0+lclfc+jypWpFnSMx2V4+DuO1Rgdq6TRFVdLRscuzMfzqqJjmOz9TRxS45roPFCigQUUALRzTEKKQ5oAUdqXvQBfpOtMkXNJmgBaWgQE0dqAEBKknvjiqsVpDHHKCmfNzv565pNXLhJx2Mf8A4Ra0aXfcTz3ABG1XPAx/OtxiT7eg9KiEOU6cRiZVrJ9BAOc0e1WcoUdBQBi+I2/cRrnoucfjXKawoWeZe25T+lclbc+kyzSmhLKVxFJtJx1OK7KxUpp1qpA/1YJ49aqiYZpovmWaK6DxAzzSigAPFJQAvagUxC9KSgBaKANDtSUyQpKAFB4paBB2o4oAKYetA0MNITjmkMX8aKADt0pP4cUAYuohJNXigPK8Lj8M1x+tMRevk8BV/lXJWPpMu0SXkPtlPlmMHIkKrj3JruwgjVYxj5AFqqGxy5q9UhaQGug8cWloAKOtMAFLQITv1o9qAFpaAL1FMkOlAoAUUlAhaTpQAU00DGmikMSk7UAFKOTigDEwLjxUo9GYj8BiuR8QoUuLgEZIkYD2ANclXY+jwDtNLyRc0e3M2tWyHhVTzGH0rscjJPrWlFe6cWaSvVSDrQBWx5YUtABRTEFGaAAdaWgBKXNAF+imSHejigBaSgQUUAIaSgY00lIAooGJg05Bl1z60AjC0f8Ae+IZpMcKG/U1yfiEvJfzgnOZGxj61yVfhPo8H/GfojU0Pd/bcZfJPkMD+Qrp+9a0fhPPzL+N8gJx0pa1POCloASjNMQdqWgApaAFooAu0MwRSxOABk0yQVleMMpyCMg0tACZpc0AFFAhCT0FN7UDEpMc0AJ3o70gE70oJzn0BNBS3MXw/j7Xdyn+FRz+Zri9QJmvsA9TmuSpsj6PB/xZPyRvaFj+1o3xz5LZ/Suk961pfCebmP8AFFwMUma1PPClpiE70tABS0AHOaO1AC0UAXqQjjHY0yQACgAcAdhS0AHakoAWg0AJSUAJRQA3vRQAGmSMVglYDJVGI/Kkyo/EjE0t8WOpydwgH6GuKdwLpN/cHH1riq9D6bBr3p/I6bReNZKgYEcBHPboK6HFdFL4TyMw/iimitDhAmmKx3lSOnOaBD/rRTABQc5HpQAvejtQAUvagC93o70yQooASloASg5oAO1IaAEoPrQAlJQAdahvG2afct6Rmk9i6es0YFpJs0TUmzjMgTP4CuOz5l5CRzlgDXDU6H1GDXxv+tjrNA2vqV6+eiAfmf8A61b3Suql8J4ePd6zDrRWhxhSigQvakFAC0UAHFHegAooAvZp1MkQ0nagBaSgA7UdqACmmgBMikoAKaT0oAWq2pnbpF0T/dH8xUy2NaP8Repydxc+Xo08AHMk7Ej2C1z1iS17HJjgHOMVwzd2j6vDxtBvudj4aw0d9MAPmdVz9BW0fm7110/hPnca/wB+worQ5BTSDpQIUUlAC5oNACdaXOKAFzRQBd7UuaZI0n0pc8UAJnijJoAXPFAPNACZpKAEzQaAG9qDQAfWqmrHGjXRzjhf5ilLY1o/xF6nHaixS5uojgYBIH+8KyNPifz1YJu2q2PfivPlufWUmlTOy8NKRou4qAXlY8flWrXbT+FHzOLd60vUOetG45qzmDvS5oAQkg9KUZoAPxpM0AKKWgQZxQc0AX+1FMQlJ9aADNFABkkUCgAo4oASk60AQPd2kOfOu4Y8cEFuRUMmrabHE0pvoNqjOFbJ/Kpc0jeOGqS2QwazphjDi+j+bkDByPrVXVtRsZtGnSG5R3bbgDOfvColNNG9HC1YzTa6nK3c4murli2/5VAqCK4VBEQT/qznHrXJfU+jUfdsdNpWqWNvpNvC8kilVy2Yz1JzWhHqVhNzFeRN7E7T+tdUZq1j5/EYapzuVi0c9KYc9vyrQ4bCIdyhsY46Ht7U7NANC0UxBSCgBaKBC0lAF/vS0xCUUANpu40APHI60e1ACUUAAUntTgpBB4/OhspRb1Ry19pFzFljJaOuTgyPg1jpaOZcEWiD1MoIrllHU9+hVTiSyWjhT/pNkAOwl61A5SJTudCdv8DA81DVjojLm2KbgGQBX+8PSqTsIUYOxLHgVkzsRfjuroxIpCeVtA561FeytcW5jWNef4u9Vd2M+SKZp6d4kvLKxitpbaOfyxgOXIOKsjxLcXJKqIrftwMnH1Naqq7WPPngIczmGh3k66t9mikMtu4LSA8hT6j3rp+3FbU27anmY2MVU90QUtaHGHWigQUd6AFJo7UAXqKYgoJoAb3pB1oAWigBDRQBha+JTKm92FuVwoDcbu+a555Io5gqwszEY4c9fxNc078x7mEUXSVi+um6nPFlbWMqRxulHFRnw/qnJNvDx/00FLlbNFiacdBY/DuqOgPk26j3el/4RjVWfrbLx/eP+FHs5A8dTiyRfCV2zhpruFeOiqTVqLwnYGIpcyyynrxximqPcxqZn/IiP/hE7YAhLubb2VlBxQPClqNpeZ2HcKMZp+xRP9pyfQfL4V0uVQFM8bAdUk6/nU+m6LY6Yp8tDLITkyS8mqVJJ3MZ4+pODiaPGegH0GKBWhwNt7gaKYhM0ueKBBRQAvejtQB//9n/4TGwaHR0cDovL25zLmFkb2JlLmNvbS94YXAvMS4wLwA8P3hwYWNrZXQgYmVnaW49J++7vycgaWQ9J1c1TTBNcENlaGlIenJlU3pOVGN6a2M5ZCc/Pg0KPHg6eG1wbWV0YSB4bWxuczp4PSJhZG9iZTpuczptZXRhLyI+PHJkZjpSREYgeG1sbnM6cmRmPSJodHRwOi8vd3d3LnczLm9yZy8xOTk5LzAyLzIyLXJkZi1zeW50YXgtbnMjIj48cmRmOkRlc2NyaXB0aW9uIHJkZjphYm91dD0idXVpZDpmYWY1YmRkNS1iYTNkLTExZGEtYWQzMS1kMzNkNzUxODJmMWIiIHhtbG5zOnhtcD0iaHR0cDovL25zLmFkb2JlLmNvbS94YXAvMS4wLyI+PHhtcDpDcmVhdG9yVG9vbD5XaW5kb3dzIFBob3RvIEVkaXRvciAxMC4wLjEwMDExLjE2Mzg0PC94bXA6Q3JlYXRvclRvb2w+PC9yZGY6RGVzY3JpcHRpb24+PC9yZGY6UkRGPjwveDp4bXBtZXRhPg0KICAgICAgICAgICAgICAgICAgICAgICAgICAgICAgICAgICAgICAgICAgICAgICAgICAgICAgICAgICAgICAgICAgICAgICAgICAgICAgICAgICAgICAgICAgICAgICAgICAgIAogICAgICAgICAgICAgICAgICAgICAgICAgICAgICAgICAgICAgICAgICAgICAgICAgICAgICAgICAgICAgICAgICAgICAgICAgICAgICAgICAgICAgICAgICAgICAgICAgICAgCiAgICAgICAgICAgICAgICAgICAgICAgICAgICAgICAgICAgICAgICAgICAgICAgICAgICAgICAgICAgICAgICAgICAgICAgICAgICAgICAgICAgICAgICAgICAgICAgICAgICAKICAgICAgICAgICAgICAgICAgICAgICAgICAgICAgICAgICAgICAgICAgICAgICAgICAgICAgICAgICAgICAgICAgICAgICAgICAgICAgICAgICAgICAgICAgICAgICAgICAgIAogICAgICAgICAgICAgICAgICAgICAgICAgICAgICAgICAgICAgICAgICAgICAgICAgICAgICAgICAgICAgICAgICAgICAgICAgICAgICAgICAgICAgICAgICAgICAgICAgICAgCiAgICAgICAgICAgICAgICAgICAgICAgICAgICAgICAgICAgICAgICAgICAgICAgICAgICAgICAgICAgICAgICAgICAgICAgICAgICAgICAgICAgICAgICAgICAgICAgICAgICAKICAgICAgICAgICAgICAgICAgICAgICAgICAgICAgICAgICAgICAgICAgICAgICAgICAgICAgICAgICAgICAgICAgICAgICAgICAgICAgICAgICAgICAgICAgICAgICAgICAgIAogICAgICAgICAgICAgICAgICAgICAgICAgICAgICAgICAgICAgICAgICAgICAgICAgICAgICAgICAgICAgICAgICAgICAgICAgICAgICAgICAgICAgICAgICAgICAgICAgICAgCiAgICAgICAgICAgICAgICAgICAgICAgICAgICAgICAgICAgICAgICAgICAgICAgICAgICAgICAgICAgICAgICAgICAgICAgICAgICAgICAgICAgICAgICAgICAgICAgICAgICAKICAgICAgICAgICAgICAgICAgICAgICAgICAgICAgICAgICAgICAgICAgICAgICAgICAgICAgICAgICAgICAgICAgICAgICAgICAgICAgICAgICAgICAgICAgICAgICAgICAgIAogICAgICAgICAgICAgICAgICAgICAgICAgICAgICAgICAgICAgICAgICAgICAgICAgICAgICAgICAgICAgICAgICAgICAgICAgICAgICAgICAgICAgICAgICAgICAgICAgICAgCiAgICAgICAgICAgICAgICAgICAgICAgICAgICAgICAgICAgICAgICAgICAgICAgICAgICAgICAgICAgICAgICAgICAgICAgICAgICAgICAgICAgICAgICAgICAgICAgICAgICAKICAgICAgICAgICAgICAgICAgICAgICAgICAgICAgICAgICAgICAgICAgICAgICAgICAgICAgICAgICAgICAgICAgICAgICAgICAgICAgICAgICAgICAgICAgICAgICAgICAgIAogICAgICAgICAgICAgICAgICAgICAgICAgICAgICAgICAgICAgICAgICAgICAgICAgICAgICAgICAgICAgICAgICAgICAgICAgICAgICAgICAgICAgICAgICAgICAgICAgICAgCiAgICAgICAgICAgICAgICAgICAgICAgICAgICAgICAgICAgICAgICAgICAgICAgICAgICAgICAgICAgICAgICAgICAgICAgICAgICAgICAgICAgICAgICAgICAgICAgICAgICAKICAgICAgICAgICAgICAgICAgICAgICAgICAgICAgICAgICAgICAgICAgICAgICAgICAgICAgICAgICAgICAgICAgICAgICAgICAgICAgICAgICAgICAgICAgICAgICAgICAgIAogICAgICAgICAgICAgICAgICAgICAgICAgICAgICAgICAgICAgICAgICAgICAgICAgICAgICAgICAgICAgICAgICAgICAgICAgICAgICAgICAgICAgICAgICAgICAgICAgICAgCiAgICAgICAgICAgICAgICAgICAgICAgICAgICAgICAgICAgICAgICAgICAgICAgICAgICAgICAgICAgICAgICAgICAgICAgICAgICAgICAgICAgICAgICAgICAgICAgICAgICAKICAgICAgICAgICAgICAgICAgICAgICAgICAgICAgICAgICAgICAgICAgICAgICAgICAgICAgICAgICAgICAgICAgICAgICAgICAgICAgICAgICAgICAgICAgICAgICAgICAgIAogICAgICAgICAgICAgICAgICAgICAgICAgICAgICAgICAgICAgICAgICAgICAgICAgICAgICAgICAgICAgICAgICAgICAgICAgICAgICAgICAgICAgICAgICAgICAgICAgICAgCiAgICAgICAgICAgICAgICAgICAgICAgICAgICAgICAgICAgICAgICAgICAgICAgICAgICAgICAgICAgICAgICAgICAgICAgICAgICAgICAgICAgICAgICAgICAgICAgICAgICAKICAgICAgICAgICAgICAgICAgICAgICAgICAgICAgICAgICAgICAgICAgICAgICAgICAgICAgICAgICAgICAgICAgICAgICAgICAgICAgICAgICAgICAgICAgICAgICAgICAgIAogICAgICAgICAgICAgICAgICAgICAgICAgICAgICAgICAgICAgICAgICAgICAgICAgICAgICAgICAgICAgICAgICAgICAgICAgICAgICAgICAgICAgICAgICAgICAgICAgICAgCiAgICAgICAgICAgICAgICAgICAgICAgICAgICAgICAgICAgICAgICAgICAgICAgICAgICAgICAgICAgICAgICAgICAgICAgICAgICAgICAgICAgICAgICAgICAgICAgICAgICAKICAgICAgICAgICAgICAgICAgICAgICAgICAgICAgICAgICAgICAgICAgICAgICAgICAgICAgICAgICAgICAgICAgICAgICAgICAgICAgICAgICAgICAgICAgICAgICAgICAgIAogICAgICAgICAgICAgICAgICAgICAgICAgICAgICAgICAgICAgICAgICAgICAgICAgICAgICAgICAgICAgICAgICAgICAgICAgICAgICAgICAgICAgICAgICAgICAgICAgICAgCiAgICAgICAgICAgICAgICAgICAgICAgICAgICAgICAgICAgICAgICAgICAgICAgICAgICAgICAgICAgICAgICAgICAgICAgICAgICAgICAgICAgICAgICAgICAgICAgICAgICAKICAgICAgICAgICAgICAgICAgICAgICAgICAgICAgICAgICAgICAgICAgICAgICAgICAgICAgICAgICAgICAgICAgICAgICAgICAgICAgICAgICAgICAgICAgICAgICAgICAgIAogICAgICAgICAgICAgICAgICAgICAgICAgICAgICAgICAgICAgICAgICAgICAgICAgICAgICAgICAgICAgICAgICAgICAgICAgICAgICAgICAgICAgICAgICAgICAgICAgICAgCiAgICAgICAgICAgICAgICAgICAgICAgICAgICAgICAgICAgICAgICAgICAgICAgICAgICAgICAgICAgICAgICAgICAgICAgICAgICAgICAgICAgICAgICAgICAgICAgICAgICAKICAgICAgICAgICAgICAgICAgICAgICAgICAgICAgICAgICAgICAgICAgICAgICAgICAgICAgICAgICAgICAgICAgICAgICAgICAgICAgICAgICAgICAgICAgICAgICAgICAgIAogICAgICAgICAgICAgICAgICAgICAgICAgICAgICAgICAgICAgICAgICAgICAgICAgICAgICAgICAgICAgICAgICAgICAgICAgICAgICAgICAgICAgICAgICAgICAgICAgICAgCiAgICAgICAgICAgICAgICAgICAgICAgICAgICAgICAgICAgICAgICAgICAgICAgICAgICAgICAgICAgICAgICAgICAgICAgICAgICAgICAgICAgICAgICAgICAgICAgICAgICAKICAgICAgICAgICAgICAgICAgICAgICAgICAgICAgICAgICAgICAgICAgICAgICAgICAgICAgICAgICAgICAgICAgICAgICAgICAgICAgICAgICAgICAgICAgICAgICAgICAgIAogICAgICAgICAgICAgICAgICAgICAgICAgICAgICAgICAgICAgICAgICAgICAgICAgICAgICAgICAgICAgICAgICAgICAgICAgICAgICAgICAgICAgICAgICAgICAgICAgICAgCiAgICAgICAgICAgICAgICAgICAgICAgICAgICAgICAgICAgICAgICAgICAgICAgICAgICAgICAgICAgICAgICAgICAgICAgICAgICAgICAgICAgICAgICAgICAgICAgICAgICAKICAgICAgICAgICAgICAgICAgICAgICAgICAgICAgICAgICAgICAgICAgICAgICAgICAgICAgICAgICAgICAgICAgICAgICAgICAgICAgICAgICAgICAgICAgICAgICAgICAgIAogICAgICAgICAgICAgICAgICAgICAgICAgICAgICAgICAgICAgICAgICAgICAgICAgICAgICAgICAgICAgICAgICAgICAgICAgICAgICAgICAgICAgICAgICAgICAgICAgICAgCiAgICAgICAgICAgICAgICAgICAgICAgICAgICAgICAgICAgICAgICAgICAgICAgICAgICAgICAgICAgICAgICAgICAgICAgICAgICAgICAgICAgICAgICAgICAgICAgICAgICAKICAgICAgICAgICAgICAgICAgICAgICAgICAgICAgICAgICAgICAgICAgICAgICAgICAgICAgICAgICAgICAgICAgICAgICAgICAgICAgICAgICAgICAgICAgICAgICAgICAgIAogICAgICAgICAgICAgICAgICAgICAgICAgICAgICAgICAgICAgICAgICAgICAgICAgICAgICAgICAgICAgICAgICAgICAgICAgICAgICAgICAgICAgICAgICAgICAgICAgICAgCiAgICAgICAgICAgICAgICAgICAgICAgICAgICAgICAgICAgICAgICAgICAgICAgICAgICAgICAgICAgICAgICAgICAgICAgICAgICAgICAgICAgICAgICAgICAgICAgICAgICAKICAgICAgICAgICAgICAgICAgICAgICAgICAgICAgICAgICAgICAgICAgICAgICAgICAgICAgICAgICAgICAgICAgICAgICAgICAgICAgICAgICAgICAgICAgICAgICAgICAgIAogICAgICAgICAgICAgICAgICAgICAgICAgICAgICAgICAgICAgICAgICAgICAgICAgICAgICAgICAgICAgICAgICAgICAgICAgICAgICAgICAgICAgICAgICAgICAgICAgICAgCiAgICAgICAgICAgICAgICAgICAgICAgICAgICAgICAgICAgICAgICAgICAgICAgICAgICAgICAgICAgICAgICAgICAgICAgICAgICAgICAgICAgICAgICAgICAgICAgICAgICAKICAgICAgICAgICAgICAgICAgICAgICAgICAgICAgICAgICAgICAgICAgICAgICAgICAgICAgICAgICAgICAgICAgICAgICAgICAgICAgICAgICAgICAgICAgICAgICAgICAgIAogICAgICAgICAgICAgICAgICAgICAgICAgICAgICAgICAgICAgICAgICAgICAgICAgICAgICAgICAgICAgICAgICAgICAgICAgICAgICAgICAgICAgICAgICAgICAgICAgICAgCiAgICAgICAgICAgICAgICAgICAgICAgICAgICAgICAgICAgICAgICAgICAgICAgICAgICAgICAgICAgICAgICAgICAgICAgICAgICAgICAgICAgICAgICAgICAgICAgICAgICAKICAgICAgICAgICAgICAgICAgICAgICAgICAgICAgICAgICAgICAgICAgICAgICAgICAgICAgICAgICAgICAgICAgICAgICAgICAgICAgICAgICAgICAgICAgICAgICAgICAgIAogICAgICAgICAgICAgICAgICAgICAgICAgICAgICAgICAgICAgICAgICAgICAgICAgICAgICAgICAgICAgICAgICAgICAgICAgICAgICAgICAgICAgICAgICAgICAgICAgICAgCiAgICAgICAgICAgICAgICAgICAgICAgICAgICAgICAgICAgICAgICAgICAgICAgICAgICAgICAgICAgICAgICAgICAgICAgICAgICAgICAgICAgICAgICAgICAgICAgICAgICAKICAgICAgICAgICAgICAgICAgICAgICAgICAgICAgICAgICAgICAgICAgICAgICAgICAgICAgICAgICAgICAgICAgICAgICAgICAgICAgICAgICAgICAgICAgICAgICAgICAgIAogICAgICAgICAgICAgICAgICAgICAgICAgICAgICAgICAgICAgICAgICAgICAgICAgICAgICAgICAgICAgICAgICAgICAgICAgICAgICAgICAgICAgICAgICAgICAgICAgICAgCiAgICAgICAgICAgICAgICAgICAgICAgICAgICAgICAgICAgICAgICAgICAgICAgICAgICAgICAgICAgICAgICAgICAgICAgICAgICAgICAgICAgICAgICAgICAgICAgICAgICAKICAgICAgICAgICAgICAgICAgICAgICAgICAgICAgICAgICAgICAgICAgICAgICAgICAgICAgICAgICAgICAgICAgICAgICAgICAgICAgICAgICAgICAgICAgICAgICAgICAgIAogICAgICAgICAgICAgICAgICAgICAgICAgICAgICAgICAgICAgICAgICAgICAgICAgICAgICAgICAgICAgICAgICAgICAgICAgICAgICAgICAgICAgICAgICAgICAgICAgICAgCiAgICAgICAgICAgICAgICAgICAgICAgICAgICAgICAgICAgICAgICAgICAgICAgICAgICAgICAgICAgICAgICAgICAgICAgICAgICAgICAgICAgICAgICAgICAgICAgICAgICAKICAgICAgICAgICAgICAgICAgICAgICAgICAgICAgICAgICAgICAgICAgICAgICAgICAgICAgICAgICAgICAgICAgICAgICAgICAgICAgICAgICAgICAgICAgICAgICAgICAgIAogICAgICAgICAgICAgICAgICAgICAgICAgICAgICAgICAgICAgICAgICAgICAgICAgICAgICAgICAgICAgICAgICAgICAgICAgICAgICAgICAgICAgICAgICAgICAgICAgICAgCiAgICAgICAgICAgICAgICAgICAgICAgICAgICAgICAgICAgICAgICAgICAgICAgICAgICAgICAgICAgICAgICAgICAgICAgICAgICAgICAgICAgICAgICAgICAgICAgICAgICAKICAgICAgICAgICAgICAgICAgICAgICAgICAgICAgICAgICAgICAgICAgICAgICAgICAgICAgICAgICAgICAgICAgICAgICAgICAgICAgICAgICAgICAgICAgICAgICAgICAgIAogICAgICAgICAgICAgICAgICAgICAgICAgICAgICAgICAgICAgICAgICAgICAgICAgICAgICAgICAgICAgICAgICAgICAgICAgICAgICAgICAgICAgICAgICAgICAgICAgICAgCiAgICAgICAgICAgICAgICAgICAgICAgICAgICAgICAgICAgICAgICAgICAgICAgICAgICAgICAgICAgICAgICAgICAgICAgICAgICAgICAgICAgICAgICAgICAgICAgICAgICAKICAgICAgICAgICAgICAgICAgICAgICAgICAgICAgICAgICAgICAgICAgICAgICAgICAgICAgICAgICAgICAgICAgICAgICAgICAgICAgICAgICAgICAgICAgICAgICAgICAgIAogICAgICAgICAgICAgICAgICAgICAgICAgICAgICAgICAgICAgICAgICAgICAgICAgICAgICAgICAgICAgICAgICAgICAgICAgICAgICAgICAgICAgICAgICAgICAgICAgICAgCiAgICAgICAgICAgICAgICAgICAgICAgICAgICAgICAgICAgICAgICAgICAgICAgICAgICAgICAgICAgICAgICAgICAgICAgICAgICAgICAgICAgICAgICAgICAgICAgICAgICAKICAgICAgICAgICAgICAgICAgICAgICAgICAgICAgICAgICAgICAgICAgICAgICAgICAgICAgICAgICAgICAgICAgICAgICAgICAgICAgICAgICAgICAgICAgICAgICAgICAgIAogICAgICAgICAgICAgICAgICAgICAgICAgICAgICAgICAgICAgICAgICAgICAgICAgICAgICAgICAgICAgICAgICAgICAgICAgICAgICAgICAgICAgICAgICAgICAgICAgICAgCiAgICAgICAgICAgICAgICAgICAgICAgICAgICAgICAgICAgICAgICAgICAgICAgICAgICAgICAgICAgICAgICAgICAgICAgICAgICAgICAgICAgICAgICAgICAgICAgICAgICAKICAgICAgICAgICAgICAgICAgICAgICAgICAgICAgICAgICAgICAgICAgICAgICAgICAgICAgICAgICAgICAgICAgICAgICAgICAgICAgICAgICAgICAgICAgICAgICAgICAgIAogICAgICAgICAgICAgICAgICAgICAgICAgICAgICAgICAgICAgICAgICAgICAgICAgICAgICAgICAgICAgICAgICAgICAgICAgICAgICAgICAgICAgICAgICAgICAgICAgICAgCiAgICAgICAgICAgICAgICAgICAgICAgICAgICAgICAgICAgICAgICAgICAgICAgICAgICAgICAgICAgICAgICAgICAgICAgICAgICAgICAgICAgICAgICAgICAgICAgICAgICAKICAgICAgICAgICAgICAgICAgICAgICAgICAgICAgICAgICAgICAgICAgICAgICAgICAgICAgICAgICAgICAgICAgICAgICAgICAgICAgICAgICAgICAgICAgICAgICAgICAgIAogICAgICAgICAgICAgICAgICAgICAgICAgICAgICAgICAgICAgICAgICAgICAgICAgICAgICAgICAgICAgICAgICAgICAgICAgICAgICAgICAgICAgICAgICAgICAgICAgICAgCiAgICAgICAgICAgICAgICAgICAgICAgICAgICAgICAgICAgICAgICAgICAgICAgICAgICAgICAgICAgICAgICAgICAgICAgICAgICAgICAgICAgICAgICAgICAgICAgICAgICAKICAgICAgICAgICAgICAgICAgICAgICAgICAgICAgICAgICAgICAgICAgICAgICAgICAgICAgICAgICAgICAgICAgICAgICAgICAgICAgICAgICAgICAgICAgICAgICAgICAgIAogICAgICAgICAgICAgICAgICAgICAgICAgICAgICAgICAgICAgICAgICAgICAgICAgICAgICAgICAgICAgICAgICAgICAgICAgICAgICAgICAgICAgICAgICAgICAgICAgICAgCiAgICAgICAgICAgICAgICAgICAgICAgICAgICAgICAgICAgICAgICAgICAgICAgICAgICAgICAgICAgICAgICAgICAgICAgICAgICAgICAgICAgICAgICAgICAgICAgICAgICAKICAgICAgICAgICAgICAgICAgICAgICAgICAgICAgICAgICAgICAgICAgICAgICAgICAgICAgICAgICAgICAgICAgICAgICAgICAgICAgICAgICAgICAgICAgICAgICAgICAgIAogICAgICAgICAgICAgICAgICAgICAgICAgICAgICAgICAgICAgICAgICAgICAgICAgICAgICAgICAgICAgICAgICAgICAgICAgICAgICAgICAgICAgICAgICAgICAgICAgICAgCiAgICAgICAgICAgICAgICAgICAgICAgICAgICAgICAgICAgICAgICAgICAgICAgICAgICAgICAgICAgICAgICAgICAgICAgICAgICAgICAgICAgICAgICAgICAgICAgICAgICAKICAgICAgICAgICAgICAgICAgICAgICAgICAgICAgICAgICAgICAgICAgICAgICAgICAgICAgICAgICAgICAgICAgICAgICAgICAgICAgICAgICAgICAgICAgICAgICAgICAgIAogICAgICAgICAgICAgICAgICAgICAgICAgICAgICAgICAgICAgICAgICAgICAgICAgICAgICAgICAgICAgICAgICAgICAgICAgICAgICAgICAgICAgICAgICAgICAgICAgICAgCiAgICAgICAgICAgICAgICAgICAgICAgICAgICAgICAgICAgICAgICAgICAgICAgICAgICAgICAgICAgICAgICAgICAgICAgICAgICAgICAgICAgICAgICAgICAgICAgICAgICAKICAgICAgICAgICAgICAgICAgICAgICAgICAgICAgICAgICAgICAgICAgICAgICAgICAgICAgICAgICAgICAgICAgICAgICAgICAgICAgICAgICAgICAgICAgICAgICAgICAgIAogICAgICAgICAgICAgICAgICAgICAgICAgICAgICAgICAgICAgICAgICAgICAgICAgICAgICAgICAgICAgICAgICAgICAgICAgICAgICAgICAgICAgICAgICAgICAgICAgICAgCiAgICAgICAgICAgICAgICAgICAgICAgICAgICAgICAgICAgICAgICAgICAgICAgICAgICAgICAgICAgICAgICAgICAgICAgICAgICAgICAgICAgICAgICAgICAgICAgICAgICAKICAgICAgICAgICAgICAgICAgICAgICAgICAgICAgICAgICAgICAgICAgICAgICAgICAgICAgICAgICAgICAgICAgICAgICAgICAgICAgICAgICAgICAgICAgICAgICAgICAgIAogICAgICAgICAgICAgICAgICAgICAgICAgICAgICAgICAgICAgICAgICAgICAgICAgICAgICAgICAgICAgICAgICAgICAgICAgICAgICAgICAgICAgICAgICAgICAgICAgICAgCiAgICAgICAgICAgICAgICAgICAgICAgICAgICAgICAgICAgICAgICAgICAgICAgICAgICAgICAgICAgICAgICAgICAgICAgICAgICAgICAgICAgICAgICAgICAgICAgICAgICAKICAgICAgICAgICAgICAgICAgICAgICAgICAgICAgICAgICAgICAgICAgICAgICAgICAgICAgICAgICAgICAgICAgICAgICAgICAgICAgICAgICAgICAgICAgICAgICAgICAgIAogICAgICAgICAgICAgICAgICAgICAgICAgICAgICAgICAgICAgICAgICAgICAgICAgICAgICAgICAgICAgICAgICAgICAgICAgICAgICAgICAgICAgICAgICAgICAgICAgICAgCiAgICAgICAgICAgICAgICAgICAgICAgICAgICAgICAgICAgICAgICAgICAgICAgICAgICAgICAgICAgICAgICAgICAgICAgICAgICAgICAgICAgICAgICAgICAgICAgICAgICAKICAgICAgICAgICAgICAgICAgICAgICAgICAgICAgICAgICAgICAgICAgICAgICAgICAgICAgICAgICAgICAgICAgICAgICAgICAgICAgICAgICAgICAgICAgICAgICAgICAgIAogICAgICAgICAgICAgICAgICAgICAgICAgICAgICAgICAgICAgICAgICAgICAgICAgICAgICAgICAgICAgICAgICAgICAgICAgICAgICAgICAgICAgICAgICAgICAgICAgICAgCiAgICAgICAgICAgICAgICAgICAgICAgICAgICAgICAgICAgICAgICAgICAgICAgICAgICAgICAgICAgICAgICAgICAgICAgICAgICAgICAgICAgICAgICAgICAgICAgICAgICAKICAgICAgICAgICAgICAgICAgICAgICAgICAgICAgICAgICAgICAgICAgICAgICAgICAgICAgICAgICAgICAgICAgICAgICAgICAgICAgICAgICAgICAgICAgICAgICAgICAgIAogICAgICAgICAgICAgICAgICAgICAgICAgICAgICAgICAgICAgICAgICAgICAgICAgICAgICAgICAgICAgICAgICAgICAgICAgICAgICAgICAgICAgICAgICAgICAgICAgICAgCiAgICAgICAgICAgICAgICAgICAgICAgICAgICAgICAgICAgICAgICAgICAgICAgICAgICAgICAgICAgICAgICAgICAgICAgICAgICAgICAgICAgICAgICAgICAgICAgICAgICAKICAgICAgICAgICAgICAgICAgICAgICAgICAgICAgICAgICAgICAgICAgICAgICAgICAgICAgICAgICAgICAgICAgICAgICAgICAgICAgICAgICAgICAgICAgICAgICAgICAgIAogICAgICAgICAgICAgICAgICAgICAgICAgICAgICAgICAgICAgICAgICAgICAgICAgICAgICAgICAgICAgICAgICAgICAgICAgICAgICAgICAgICAgICAgICAgICAgICAgICAgCiAgICAgICAgICAgICAgICAgICAgICAgICAgICAgICAgICAgICAgICAgICAgICAgICAgICAgICAgICAgICAgICAgICAgICAgICAgICAgICAgICAgICAgICAgICAgICAgICAgICAKICAgICAgICAgICAgICAgICAgICAgICAgICAgICAgICAgICAgICAgICAgICAgICAgICAgICAgICAgICAgICAgICAgICAgICAgICAgICAgICAgICAgICAgICAgICAgICAgICAgIAogICAgICAgICAgICAgICAgICAgICAgICAgICAgICAgICAgICAgICAgICAgICAgICAgICAgICAgICAgICAgICAgICAgICAgICAgICAgICAgICAgICAgICAgICAgICAgICAgICAgCiAgICAgICAgICAgICAgICAgICAgICAgICAgICAgICAgICAgICAgICAgICAgICAgICAgICAgICAgICAgICAgICAgICAgICAgICAgICAgICAgICAgICAgICAgICAgICAgICAgICAKICAgICAgICAgICAgICAgICAgICAgICAgICAgICAgICAgICAgICAgICAgICAgICAgICAgICAgICAgICAgICAgICAgICAgICAgICAgICAgICAgICAgICAgICAgICAgICAgICAgIAogICAgICAgICAgICAgICAgICAgICAgICAgICAgICAgICAgICAgICAgICAgICAgICAgICAgICAgICAgICAgICAgICAgICAgICAgICAgICAgICAgICAgICAgICAgICAgICAgICAgCiAgICAgICAgICAgICAgICAgICAgICAgICAgICAgICAgICAgICAgICAgICAgICAgICAgICAgICAgICAgICAgICAgICAgICAgICAgICAgICAgICAgICAgICAgICAgICAgICAgICAKICAgICAgICAgICAgICAgICAgICAgICAgICAgICAgICAgICAgICAgICAgICAgICAgICAgICAgICAgICAgICAgICAgICAgICAgICAgICAgICAgICAgICAgICAgICAgICAgICAgIAogICAgICAgICAgICAgICAgICAgICAgICAgICAgICAgICAgICAgICAgICAgICAgICAgICAgICAgICAgICAgICAgICAgICAgICAgICAgICAgICAgICAgICAgICAgICAgICAgICAgCiAgICAgICAgICAgICAgICAgICAgICAgICAgICAgICAgICAgICAgICAgICAgICAgICAgICAgICAgICAgICAgICAgICAgICAgICAgICAgICAgICAgICAgICAgICAgICAgICAgICAKICAgICAgICAgICAgICAgICAgICAgICAgICAgICAgICAgICAgICAgICAgICAgICAgICAgICAgICAgICAgICAgICAgICAgICAgICAgICAgICAgICAgICAgICAgICAgICAgICAgIAogICAgICAgICAgICAgICAgICAgICAgICAgICAgICAgICAgICAgICAgICAgICAgICAgICAgICAgICAgICAgICAgICAgICAgICAgICAgICAgICAgICAgICAgICAgICAgICAgICAgCiAgICAgICAgICAgICAgICAgICAgICAgICAgICAgICAgICAgICAgICAgICAgICAgICAgICAgICAgICAgICAgICAgICAgICAgICAgICAgICAgICAgICAgICAgICAgICAgICAgICAKICAgICAgICAgICAgICAgICAgICAgICAgICAgICAgICAgICAgICAgICAgICAgICAgICAgICAgICAgICAgICAgICAgICAgICAgICAgICAgICAgICAgICAgICAgICAgICAgICAgIAogICAgICAgICAgICAgICAgICAgICAgICAgICAgICAgICAgICAgICAgICAgICAgICAgICAgICAgICAgICAgICAgICAgICAgICAgICAgICAgICAgICAgICAgICAgICAgICAgICAgCiAgICAgICAgICAgICAgICAgICAgICAgICAgICAgICAgICAgICAgICAgICAgICAgICAgICAgICAgICAgICAgICAgICAgICAgICAgICAgICAgICAgICAgICAgICAgICAgICAgICAKICAgICAgICAgICAgICAgICAgICAgICAgICAgICAgICAgICAgICAgICAgICAgICAgICAgICAgICAgICAgICAgICAgICAgICAgICAgICAgICAgICAgICAgICAgICAgICAgICAgIAogICAgICAgICAgICAgICAgICAgICAgICAgICAgICAgICAgICAgICAgICAgICAgICAgICAgICAgICAgICAgICAgICAgICAgICAgICAgICAgICAgICAgICAgICAgICAgICAgICAgCiAgICAgICAgICAgICAgICAgICAgICAgICAgICAgICAgICAgICAgICAgICAgICAgICAgICAgICAgICAgICAgICAgICAgICAgICAgICAgICAgICAgICAgICAgICAgICAgICAgICAKICAgICAgICAgICAgICAgICAgICAgICAgICAgICAgICAgICAgICAgICAgICAgICAgICAgICAgICAgICAgICAgICAgICAgICAgICAgICAgICAgICAgICAgICAgICAgICAgICAgIAogICAgICAgICAgICAgICAgICAgICAgICAgICAgICAgICAgICAgICAgICAgICAgICAgICAgICAgICAgICAgICAgICAgPD94cGFja2V0IGVuZD0ndyc/Pv/bAEMAAwICAwICAwMDAwQDAwQFCAUFBAQFCgcHBggMCgwMCwoLCw0OEhANDhEOCwsQFhARExQVFRUMDxcYFhQYEhQVFP/bAEMBAwQEBQQFCQUFCRQNCw0UFBQUFBQUFBQUFBQUFBQUFBQUFBQUFBQUFBQUFBQUFBQUFBQUFBQUFBQUFBQUFBQUFP/AABEIAZsBnAMBIgACEQEDEQH/xAAfAAABBQEBAQEBAQAAAAAAAAAAAQIDBAUGBwgJCgv/xAC1EAACAQMDAgQDBQUEBAAAAX0BAgMABBEFEiExQQYTUWEHInEUMoGRoQgjQrHBFVLR8CQzYnKCCQoWFxgZGiUmJygpKjQ1Njc4OTpDREVGR0hJSlNUVVZXWFlaY2RlZmdoaWpzdHV2d3h5eoOEhYaHiImKkpOUlZaXmJmaoqOkpaanqKmqsrO0tba3uLm6wsPExcbHyMnK0tPU1dbX2Nna4eLj5OXm5+jp6vHy8/T19vf4+fr/xAAfAQADAQEBAQEBAQEBAAAAAAAAAQIDBAUGBwgJCgv/xAC1EQACAQIEBAMEBwUEBAABAncAAQIDEQQFITEGEkFRB2FxEyIygQgUQpGhscEJIzNS8BVictEKFiQ04SXxFxgZGiYnKCkqNTY3ODk6Q0RFRkdISUpTVFVWV1hZWmNkZWZnaGlqc3R1dnd4eXqCg4SFhoeIiYqSk5SVlpeYmZqio6Slpqeoqaqys7S1tre4ubrCw8TFxsfIycrS09TV1tfY2dri4+Tl5ufo6ery8/T19vf4+fr/2gAMAwEAAhEDEQA/APf2k7egoVwaVhuNIQFY4rlNR3GeeaTrk4pppd3bvTYDee1G7IwRTuaQr3qQEXBX370vX3ptKp55oAWl5zxSE0q88UAJjvQzbTxSsvvSbTQAtGfl6032p4xgmgBjEAUdh60ZzQCDxQAZ+b3oPLdMUNw3vRuAznrVCDb3zRtx9aN1H3v/ANdIBre1MxkHPB7VJg7iOtHGc4oGIq/LjqetIrfNSb/Q8U3HftSGOYZ70xacT2NIF+b2oAX9KYw+XmnE+tMk+7nvQA1lwtRr60523UisP/10i7DkjM0iqDjd3rifG3xK/wCEaaSLS7BdQaNSJJZPuqw7YrrdU1iDw/pN5fzMqpGmF3HgselfOni7xF/osheZd853eYpB5J6muHEVvZqy3Pqclyz65NzqK8UeraT8WLfVvDUN9bwwjWHJje2DH5CM849MY/OuEutW1Dxg32MxyXt1H0hB4JPc+1cj4fW30uRpIpfNaMZ86PhT6/Wu2+DupPealq19vkjjLpGAsfOM8npXFGrKq1Fn1VfA0MupzrU47Gt8JPC8/h3xJrsrqsWyNYWjVvlJPJ/lXpSEHHeqcdui3E0qII/Ofc2BjPvVpfpivUpx5FY/PsbiHiqjqNWFfJoThueafimghHrY4OhI3A4FC5Zc9KRjxnBFHmD0xQIcO+eR6UjDjrRkf/XooJGfjUg+7yKb6UvagBm7pS7qMCkc+2KBCY3U7FCnpmh8fSgBd3y4pm7tTj8uPSmjG7PegBdpLYFO5WkC7m4ppJyeaAOi+8M5waaVpSw5xxTRnrVkCNhV96Bnr7UjAtzQDgUwGjJ5zSvnb6g07knNJgZIbrSAReAD2xTuAOlJ04HShfmx2+tAAOtOUjf64oxSHikA9vu5plIzdqUA7c5waYAy85pT93rSde9H3etACD6UuduCKjX5mIFPGe9ACrzk9u9NbnpTmweBS8KOlPoIj4XrTvWk5pcYzQgB16U3d8oHWg/dpuM/SkMVvu9P8acuATk5HtRjcMU0r8vtQAyRSxpqrt70vzK3Han8suWHOetIoizuz2puG2k5x7UbSW3BgPrSbjk5/Si5aVyrqU0UNv8APKISTgMTwKq6TqBubpk86E28QJkkJ61euNMt9Xha3kIy4wAOTmvF/iA114YvG0gxmNbgbnk3YyB2zXJWqezXMfQ5VgVjZ+z6jPi18QovE0kml2sYSwgJAYfxnoSa8b0OzS61qRIDvUfu9jc8+1aPijUvLtm8razMdgVT/ntTPhp5C6jPPeOsHlgbSSOTXzlSo6lS7P2fC4KGCw3LBbHQ+KlhsdDe1t2AkUBQyrjcT2r174VeZp/hWC1u4UimCKkm1QGIxkV5PpOnHxT40t7e3zeWdo4lnIPy9cgmvfYVkuLWLzYo4mj6CPuO2a9TCx15j4HiLEKNJUer1LqtukbDBucVJGvBGe9QR4UYzjipF7Z6V6p+dMlUDrnnpSgKG6+1RN69KPu+pNUQyZpAucZpOCvT8ai8wHvn29KfG3amSOK7sCl6e9GeOKF/OgkVaTNKfrTT7UAO600g0AmkbmgBDilyMUzPzcipFYd6AGYyacq0vX/9VDZGMdaAFK980H3zSBvmxnP4U7aW5wTQBuMwGcDmmhsUFfeg9K0IF/Gl46Y5pgjPTP5inD5RgUgF2nnJwaTHOM5NLuDLTC3TigB23qO9IufxpOd3JpWBNACsOMA0i0hPJGaVfvZPNADiucnINN9qe3oDUbVRI7tSd6buOABTl7kg/hQMbt59KctKpDLkjBpCu1hx+FSMNp65xSMKXce1J0p3ECrig/NRv+XjrRGB1PWpGNdflpqnavXNSsp21GduBkfWgpCbjnIoZjtPtS7QOcZHpS7geO9AiLb5jHH5mndttO3D0H50n3s49KBlWZRDyoz61nSX08mqC3t4S8e35nPr6Vsbd/oc9qrpGu5hHgSJ8xGcZqJHZQs3Zo43xZrF/oli1/btHC8LZ/fH7wHXFeLeKPEt34tM17qh23Ei7UQHAQelbPxE1ybVtcmtVlkW2hb51bkA+lcBrl810q28W0Mo65xkV87iqznKy2P2fJMvhh6UajXvMydM02RoriZI2nC5VVbJwfWrWi6ArabcXN1FmRzgdsCkjj1OCzF1DKsaRtwoOc/UVLbas/8AZbiXAkGWLg8H3rg66n1Mm+V2O2+AMdxYeJ9bkS3J0vydjkn+MEYGfxaveIVVI1KqFBHC9cV558AdHax8DzX8kREt7MzBj3GOD/OvQo1KrjFfR4WPLTR+JcQV/bY2SXTQm6gkAUiTbiVB5HWo17DnNTKoAyK7D5hkvUYximNgHg00yfMPSgsW4/lTJJVxtxwD69aM0xeF75zT/u8HmgRIrZBFNJx3wKcrYGRRu68VRImTSbuOafkelDKNp4oAb1+tBU9aFp7Lt5oJGYz1o2H1p2R2oyKAE6LSF/bmnnhfSmrjPIoAQAA5pc0nG/ANOxQBv/hTc5+vrS0bcL6VZAN8vvRjcvSgg59RRsLYJ/CmBDtZeRyKcrBcdjT2Rsn0qFo9zdcVIE3vSoOeuaacqo4OKT7yg4wRQAN98gDinMo29OaaD8wp5bimA3bwaNm5SPxpdw70H1H6UxCKvahqfTGHfoaAHAfLim/d9qeretDKWBNLYe4gxgdhTWWgcUNkY7UgI1XmnMvzU5SBzik3DPPFAC7srg03aaVsDjvQMsvX25oAGX5e2ajHytg8Gn7Du9Pel469fagaKd1cfZ5o/l4bjJpfMXufei4tvPYBuFzVDUkEM7yeayQKuQOBzUt2OqEFLQ0VY8hRyfSsjxRqMfhjTZpZGSWa4UrFHn5s1na74ws/D+ls7yyJJcKfLZl4z2rxTUNcurrffX9y1zcMcjPOwdhXDXxCgrLc+uyfJ54iftJ6RRm6/efYoLgpIFlmOZCf5VzXgbw9P4s8UWdmRlWkBkYc7Y+pzSa9qEt5JK3lby3c17f+z/4Dm0fQn1i7ULcXh+RT1CV41ODq1LdD9KxuKjgMK5ddkY3xm0XStBEVpZ28UP7kM2wY56f0NeAedIyyaeqb5nfy0+hPFepfEbUDdeJNVYZMXmkLznp/+uuH+G+ktr3xGsbdvuCUSH6LzUVFzVLI1wknSwftKjvpc+p/Buhy+GvBOmadPIGmjQE7cccVqAn3qW+m8yTAGQowCKrrITwOK+khHlikfhmKrOvWlUfVj8eop65wPSmE7sClbirOMd+NIq7eaQdQR0pw+tAh4+VQAPpTl7Z601GG09qBnK45BpiZMACtJjrinDJFG4KDnrVEjeKGUiinBsrigQm75QKPrR7fypACOe1ADjj6U3dilNJigQuaX7wOBzTcGlUAt15oAXbg+tJ1/wD1U7sTTfpQB0H8PvSZGMdKC2e9Jt+WruZgvoTTnO3rgU3r0pW+tAw525pnv1pW/wBXtFVrfzDM4fpnigCUsenapFwEyfpQFpsg/KkMM5bgZp+PlzmmLT1ye9MQHDHil20BtuaFz35oEC/rS9RjvR9OKNwHansG4nTrSNntxSs1N3HdwM0Ahy4ZfegqSCAabiovMOSpOKRSJfurihlG0Edc0oBZRn09KbuEYBLUCDG7jHNHlle9KrBlyDSqaAAk896bwaWkxjikAjt/+qqd1EtxvEm0AKSQ/AI9KtPIEBrmPiR4ji0fQBbKd090pHy9cGs6klGN2engaMq9aMInlPj3Xpta1gHYV0634jUDha4PWNaiuroiAFU7q3T61reItWmtYGgViwYDOec1xVwZYbeWcgZ/hWvmKs3KR+74LDxo0Yx7HQeCtBHi7xhb2Lt5dov72Yjngc4/Gvpu81B9I0O5aKDZBDFtg2gBQMYzXm/wV+HR0fQn129Zor2+T5Y2H3VOcVteL/EN3Z+Fb6yI3oMASntkjivSox9nT5n1PiM0r/XsZGjTd1F2PC/FbyzpLJn967lmbNdR+zfoM0+r6hr7IrWyIYgWHO7g5H+e9cT4vaWJZhu58uvob4V6RFonw80pIodrTxiWTtljzXLh4e0q3Z7WdYl4TL+SPXQ6HPmNnGO+Kcw5z3pOhwKXJKkDjNe8fjvUT8KN21R3pdu3g8GlK9s0EiIO/SnspzwM4pgj9Kl24XrQIToPbpTo1y2MZFN2nnNSRZpoVx6nnGaHp2C31qNjtb1qhCjkYoxtBzSb8nil3e1BIinOKfikH3qdmgQdVpGp+PSozy2aBhuO2kU5pDkPjBpaBD/XJoXGOlIfu9eKZk9v5UAdAwyM8/lSfzpi+Z0B+XvT1XauScVRAK3anNmkBpsjY5qhCtQq0m4spIFKvzcGkMb91s5prHdGW6fSpOY23YyOtQr5vnOTtMTAYXHIoAljwF6Ubup/Ko45N0jDBAHrU7KO3SkA37y5/OnKflowApHekUHcfSmA4+1MJ+YU/twaQUxDdu4+tLwDjvRIwjxmjcBQMUetR+Xub3+tSbvl79aRGG4Z4pDDbtHHAprDIx3qX+HgZqNvm470AgVflGODTj8vHTvTRwMGhVLd80AG3d9aa2OOeaf5eFIBqLOXC5yaRSTAzw2sck9xxDGuWJrwHxJrH2zVrm6YmSJWOzdyB7V6h8UvE1tY6OdPtZ1aeU7XUDnNeC6/fLHD5aE5Xrjua8fGVdeVH6bw3gHGDrTW5mXV2+oXnH+rU7jkcU7RYT4i8UaVp8KGT9+rOqjIABqs1ydO052YfvJhu/CvQP2c/DMt5r1zrsqBYI0KKWPVjXm04upNI+0x1ZYTCzqdke4XBRVWDH7pAPauL+McEH/CN2DRlVLSgdPvCuzExkbeRk9/SvNfjtcC0bSLQvtfDSEA8V7eI92kz8ryfmrY+PqfP3ja8JZlI2hZFQjuRmvrXT4gPD2liE7I1t48Rn0xxXx5qzC81+ygkVn824QlR3XdzX2YymOG2jRSEWJRjGK4MDrKTPquK5ctGnAhAIbJOSaceKOOlO2nA4zXsn5cN+8Kai9afRQIX+HrSqS2PSkzSpQBJx1JqRT8vtTAO9AfrnjiqJH7unrTWXtmmeZS579aYBj8akUY6/nUatubOaUnmgRJThhetRrkt7Ub+duaCR5+Y8UlHU470n6mgYbc5PWjcOlAPFHRgaBDWYZ9qNw7YH1pGUlqUDHegDoc8UnJBGeDSb+1KrDHTmrMw7UFdymnL90U1vagYijbUgI/Gm8YoH3uetO4rDvvNjHaoylSqwHBxmkb71G4Ecf8IwBT2+ZTzimNgUqr1JOaQxAflweT60bSvA5J7UJjdzgH1p4X5sikA3d0GeaePlX39aTOTQV59BTAQrubH5Unk85zj2p2OeDinKw6E80xDH2jrwKSPaSc4pJ4w+Ax474qKFZ0uCG2tF/CV6/jUlomkk5K8dMVGoLsOee1S7V3HFRyAqxI4x3oKQ/eFVs/jTB8yho+R2phkUgK2CDxUWoSz6bp0lxbWjXTR8+Wh6j2pN2NoU3OXKi2tzbpaz3F1MtvDD95mIGK861b44eHrGWS3NtcHYMLcL0J9awNc8WL46vMMHs9Msh++iJ+d5PQ+w4rgfFOuR6xG8QgVIovkTauCcd68qtiXtE/RMryCm0p11dljUtaXVpZ9UmLAsxEY749TXMWTPqOrb3ibyVG4t/Ccdqu7Li7isrC2Jd5zsVT0WpPEUyaTp7acq+VIn7suh6kdSa8mUnLVn39KEadqcTntY87WNYhs4CGZ3CrGg65NfSvhrS7nwZotnpy2omkkXMjx8AfhXiHwT0NdX8Yfb54y8FmpkKs3JJ6V9BXWrqJBKhWNcYAbpXoYSCSc2fHcRYhzlHDQ17kDeKbGGG4E58hougI+Zj7V4v8WPFj+KNWWaSBreO3i2IpPJ9/8+ldPrXiCLxBrSsq4srM7Su3G5/XPcV5X4qvXutZu5WJkiLfIcYxUYqtzLlWxvkeWxoz9rJe9Yp+BLKLxD8RtHglZisZ3kgd+K+tLxWEm0gjAr5g+Ca2138VbRw/zrE48v3A/wA/lX0zOoS6lGc4PPNbYFe62eLxZN+3hDokMIG3JFCtgU37xpdpr1D8/YH1pM5xS7T+FDcCgQdKVFLc9qRcNUi4WgkdkZwKaF3HB6U0gN16Uq9DzVAHlj/61LjsaM+4pFYbuaAF2k0vOOmaTFO3Y5PSmIX9KNtBcbfelVvWgQHOOODTVzu5qXcBTBknigBce1NIp2COKTI3eooEKo4zSbT2Ap33uego3UAbTL81KrDoetKw+al421ZAobjApv8AFTuF60w8kEc+tAiT0oJ7Uiil6c9qBju1JQOfrTGk2k8Zp7Ei7Sf/AK1C5Xim/Nu549qep2nnp60hhtw49af2OOtJuHHel6gH+lNANZdpwetKvy4JpSu589PTNDHbnP8AOgBcrnjg5+tNKhu2TTlPSlZQaAKsmVY7ume1OjY7uOQelTbcc9/eo/LKtuXr/dzUlC+WCuTkVCynoTuFSrMjZBOG/u0sbbunI9KBrQrsFDBFG4N+NYXirVbvwrppurVnaZm2iBuQ2e4rqltxK4UfIT/FivOvHHirzLybzPK8iy+RHB4J75rnryUY6nu5TRniK6srpHm3jTxA+nRrBb2scV7ecyY56muRusWtp5LnMn8QBzz3puoaxJrWvSX7oFiXKrzkH3rHaaTXtcgso5fJleTJk3cKo5r5qU+aR+5UKPsqSOx8D6rFpVzLfXcTAumy2Zl+VfU1yfirULjXNSVYtpMhORtwTXWeKNShhtVMMe5YwIxIeAMDnisH4e+Hb3xjripBhx5nzM4wNgOTzRZyagjOUo0Yyry0PWfg34DNrpJv71jZzz8BomGGUdq2vGGm6zp+n3F3ptvBqtosb+ZGxw6ADr15rr7e3trKGK1giURQgIgPb3FZ3iO8Sx0u9RZDFNcL5arj73rXvqmoU7H5FLGzxGN51rdnjWnw3F9oERiQbgjTPjqPXNcT4ijjFnH8xM5+96EV6x4PuC2oak86qlvawFSuMKSfX9a8i8dapYNfmG3dC65DKP1/CvFrxSSP0/LZynUkmtiz8H2W1+JWmMMguxXOPUV9QXmReS8EZbPNfLPw7kit/G2gyu+F87aSBX1NeKIrhgCx/i+Y13YH4WfFcWr/AGiD8iNcKM0m7LDHSnK+7luntSN6CvVPz9is3HSmt0APXrSbSG6Yp4X8fxoIYi+oo5pdoA46UoI24zQIXHem9vejtk8Ck5pgKRkZJwaZzu9qczDbikALdOlAEyruBPWkMZYjmhQWBx2pQp6ZqiQ27eKdgA80bQBxTCS2AelAWJfvZ+tAIUY6mmrkZ9KXFAA2SKRV9af92j1HX3oAGxio6kx1zzSHGaBG5TugzTuOnejaW/8ArVoZjNwzyKOaCKd+lAAGAXHehcYwetNGSwpzcMRSC4496j296f0XApBnntQMUNx7n1oBzwetN6AjOM07cM/zpADdcAYpVYn8KRmBFOztXAANMBefx+tMLAcGjvTuCfSgBvU07dxkfjSew4pDuY4P5ikAvUZJ+lBYEAcGmuBGvAJFRoxB4HFAx1xbrNGR09wcGo0byQM8DucVN5ueCP0qazjimucOBsAJIPp60FR1djm/iV4gi0nwytraySLqd8f3TxHnAPPI6cV88+Kdc1CSRdERMJg+Y2OT65rtPEk8/wDbF/qiz77RXfyUZjhMdh9a800vWl1F728myZmOI1OeBmvn8VVcnY/Zsgy+OHpc1rlTVFTT4YbONCZDxjOOK2/Bej2FppOp396A14xEcP8AsfT/AD2qlodmniDXLi4lT9zapvaQdFPb/PtVy8mxYxhdqncZDjr/AJxXBFdT6ypK65DK8YX6ySNHbwMIyo4XlS1ez/BLwX/YHhp765bZJdLiOJxggeteTeCtJbxN44sbTyZJ7aNhLOFGQB7/AFr6Z1ZkkQQxgRxRgBR9K9LCU+Zuoz4niPHOlSWFg99yS2s0RFQjzF/XNcX8TLiJLq3t49yzRLvZTxwf/wBVdXHetaKrKC4Vd/HOcV5H408TJ4jmvL+LdGjcKWBzgcd67680o2PkMnw0qlf2j2RUt1ll8H6zd+WvktKsW8H5sjHP6ivGfGkcK3UspjCybeCRg5r2y/hfSfhnpUBdRJeSmeReme4/pXh/iWT7dJKjMUffgY53f/WrwMQ9bH6zlUfdk/M0vD8rRXej3GzDrdRnp2zX15qXzXCN1BRcfTFfIkVxHHpdk4aSNoSCQq/LkEc5r61tbhb/AEXTbhAwV4FPzA56e/WvRwL0aPieLoO8JAGy3timnluDSFSOaenOa9c/NRoO7vS5J6CnbQG7e2aTd7UCYY24Gc8U0qeo/Gnc57etDgtyeBQIQMTTd9Ox2B4o20CE2Z5pyk/hSr1xT+N1UA5eKF60cUn8VMQ7FLwPY03dikye1ACsSaVfu0nXtmjdgigB/NHK49aNxYUdqBDuNoqPafSnnpR9BmgDosdScYpsh+XFP+8cUNheTWpiR429qQfL0NPZtw4GKZigBVx1PNNx1waC2GxQM9aAHGhflU+tJ34pcjceOKQxcZXdTNwHNLxjFIv3enOOlSMFYc46kU7G1R6ZpmQB8x/KmLyc54zQBOOMUvGDjrUTNUc11HZqpmbaHbap96YE4+9jGaUtySRzSqQcYH1NDLuxzk0ANXLNnqO9NZAzYxTTDiTerFfX3qXaWYEHmkMjT5e27PrXI/EvxZPpmmw2VjOtpeXJKyqykMqdyCPWuvkvrGzZzeO0caoXbHHSvn7xxr5kvLvVnm3xNIRCkxG4IDwMVx4qryRsj6vIcD9ar88ldI5nxh4kuLqOHQoR80v3pF+7t7/jWLeRnRbE2sCJ83Duw5p2jD7VJc6rdtiWZyqIP4VAq/4St4/Fnjm0sJBvtYQZphnqB2PtnH518425yP2eMY4enotibTYBoHhEXDkLJdMWO7uo6Vgatqm21yYwjcYO7FdH8Qb6HUtWNrGxS1gbiNRgEcYrH8G+GpfiD47tLCNMWNuwkmOf4R71SXNLkRnKpGnRdepotz2n4K+BJPDfh1ru6nH9oakolPGNi44AP0Nd3cq32c/Jub/ZzVr7Fb2rxwwFtkaBF3dOB2qvdSXNr89sFMq8rv6V9JTpqnFI/DcbjJYzESqSfUwrzxFDodhduP3WyPCpIPv57AGvGPE11IRHaQhUNwyqqgdya7v4salFfX2lxXtlPZ3nmjdKv+rYY5rhpbhdU+Jvh6zRd4juA5bHDKOf6V51eTc+U+6ymkoYf2vc3filBJpcGkWzThkhtQGiwOGxjcPy/SvANYmSS/Tgnc4HHua+gvjq0q+IIQyBF+zAE+vJrwSFHutWEIHztIME9Rzwa8vEL32j7TKJXwqm+ptW9rIouo4iGVk2kOPbrX054Lnk1DwRolwxHlLAI+TySOMfpXz3DFLb3VzFkcKPnx19a9x+F1wZvh9aI33oZWjGT+Nd+B0lY+S4qjz0VLszqGyxOOKIxg9cnoaYqn1P1pzfKT0+te0flRJuGcU08+1Lt28mjp6/jQIRVPT8eKlHbdUfOadznOaAFYbW9RSfeY45p5I2gkZqMDGaAHDrTiTgelJ1ppyKokf9DijnrTUb160/NMQYzzigUZpKBMdkUdeT0o470BhyccUALTl5zSfdpvOetADm9OopAxXpSfrQvTk4P0oEdRtPWmseeeaBnPtSMfTpWpkJxjAptOH3aTHc9PWgBpXvikDetPyGXjpSKh6Hj8KQCcDnpSE5709V5x2FNfAPHNIe4iqeeacudvTpUf8AFS7htweuaQyFhIrZUA+oqS1kWRT6H2p+0sue1NWFYsbT70wJNgGMjIqO4hS4wGXcAcjOODU38NGBnFAriLnjnIpXG6jPbtQuO/NAMVSNu08+lOVfmC/zo2gjjrThLHawz3U7bILdC7sfbmm7JBFObSRyHxR1JLPSbbSxt8+6bc7d1Uc9frXzl4uuk1HUFsAFUbx74Ar0Pxp4q/tSS71K5Yosudinkqg6V5tptukxk1KU4MhO1e4Ar5vF1OeWh+38P4H6rQXNuM8SSwWFh5CoQyqPmHArt/hz4T/4RLwfd+Jrr5b/AFCPEaMMFIxyOffAP4CvPtP0u68d+NrTTbZXeAyB5pOoRQec/wCfSvRvi94gkhs57GxlEcCRiMKBwuOCBXLBWTmz3cTJ1JxoQ67nk2u6w0kktw4IYZGB/F6V9Bfs8+FZtC8Jy6rdxhbnUiHjXHzKg6E/59K8X+E/w9bxp4mtrSd3On2o864bOd+D0zX1nIFjVYYkCRxAKqr0AFd2Bo80vaSPkuKsyjRorB03q9xZGPmF2785qJ3+Xdjf/s+tKoZ2y1SKo4AFe4j8mucL8VtQttSk0WyMDpcAtKBIuMjHrXm3gW1Mnxe0+PaQ8cMj89sg816l8W4zNqXh07F+5KOBzkYrzr4dyRN8YYzIcH7MwUZzk5/wryKy/en6Zlkv+E927Mp/HS8vJdcu0kdGWJVRGToOM9PXmvF9DvZf+EgtCf3UmcbuM16Z8XbiSbxPqgyQTK2BnrzXmGiReZ4ogBUFvQHmvHrSvVbP0LLYKGCivI7yS4mOrSOQrfIVcdj716r8FdS+1eF9Vt5owXt7kNjnoeleUad+/wBZclS26Mjb2yPWvSfgiytfeI4dwOdjcdPeu7Ctqoj5fiCClg5d0ekhs9ivsaeVJ54FIqquQDmnZNe8fjrHlePamdBjPFAJ+lDCgQU9e9MX8af93r1oEKMUjYBo70bh0J4pgKCPXFOdfmx1pvA4pM9+9MQn8WRxT+pqP7p5qRW5460xC4/GlpD060N2oExw6ZzS5pgPvS7vxoELkUn44paXHFAAvK56e9HFG4ULjvQB0uMe4o4DDvSHPrSK2SPStTIcVDZxwKQr/DUv05pnO6gCHacHJwc9qVM/Wpdo701lwM0ANb7pPQ1DyeadIrsBg470IobIPapGN5Y8UFc8cUYKgE9aGkC8+nrSAfg7aci8c1CkpdTgcetSq3NMY7pwOKTgGl3Aim43d6BCsfTmnD7ueBSZGMd6Ax2kUCFJKqBXF/FTVzCtno9tLuW4O+4Cddo6D2zXawsoYs4yiDe30FeH+Ltat7641PV4XaITOwRZPQDHH5VyYmfLA+lyHC+3xKk1scN431J9R1hdKtlIRsZP+yPSsTxZqUenQJAg8sIoG0HBPFaHg+Qaldahq18ucKViycCsTS/Dcvj7xlZaegJiSTzJ5OSBGpzivmpXkz9vpqGHp69D1z4b2EfgL4cDUZgqarqzbhJjlFxx+nP415L4+8QT6nqC2cUYkLOEAX7zknrXonxU8TRJeQ2Vs2y0tUESqg+UMP8AP6Vl/AbwZF4q8ZXWs3abrLTsMAxyN55B/nXRZ1JKnE8hVI4SjPG1d9z1/wCFXg0eA/CMMEgU6rcASTyAcAdQPw6V1i5z83JzSNiRsqML24py+55r6KnBQioo/FMZiZ4utKrN7jtvT0oxhqA3al+9xWpwHI/F47bfw7MAQRM6sR6EdK8j8HyJF8ZrLn5DFJtzwfumvW/i8PM0HRiGwq3RBb8DXj3h+38j4qaNIzbgxmBP/ADXjYnSofp+R+9gbepkfEaaS41C/lONguJMHHP3jXnnhHYfEwZhg7Djt3rtfG1wbqa+CNz5r45461x/hcL/AG4jAZcod3fFeJLWZ+lUVy4VLyPSNN03GnnUVKupmZA2MHOOldV8EFB8ReIhjZmJTj05qvDBHb/DOCaP5TJdFl3dzyKufBX99rviBi21jCp2/wBf8+terRjyzifDZlW9rhKvkem+YdxBwp+lPWoApZt2ealU7frXtH5S9xwXHGKO9IrdyacuG5xx9aCBN2GxTzzTeCeeR7U7dTEIuB1NKzDp60DHejI60xCbu9GKTjnH40v8OeKADHWl3AUiqadtGKYhysP/ANdNc0i8GnY3fWgQA/LxSiheKd1FAgBxxSA84PAp3G33poWgB22mkfWnUDFAHRt+86inLxxjml2nrSOOOK1Mhx4GTSBg1NVTtAB596dswtACc01lZunSlXhiKkWgBm35eaaVxkipGU5oC8UCK5+97VXmj81gr5Aq4ybqaVpWKGbQigDpSr81KV4x3pq/fB7elICRuDjFNz82MZpN350L940CHgjdxQpJbawFM3ZapUG5sZ596BmZ4s1FND8MX843ea6eUmO5bjivnLx9cD7BFpnklGyFHrz1New/FrV/J1G005CWit0811X+8emfp/WvFrWSTxJ4pkknXENmrF3PfB6H/PavExk7vlR+rcMYT2dL2slvqUdajXQdDtrNCR8m47eOfeuk+Dsf9h+CdV1qTKX2oOY7dmz90DqP1/KvPPF80+saoLezPmNcS+VEGOACTivRdcuG8MeGNMs3jQfY4hEOerEcn9K82D5Xc+3xNP2sFDucd4wvLe+mFnaM091IAjKvTf7fmK+j/hr4R/4QbwLZWToq3twPNuCncn/Irw34U+HZvFXj6GfYqRWf79vlyGwelfSs0onkLjhVGFHoK9XB073qM/P+J8Zyxjg4bbsYoCn9aX/lpntTgRu+tJ0B6165+ascuB7A0i8McjihR0bnpS89aYjmfi0vmeEdPdQP3d4v8jmvn/xVq8mi+KLLUk+TyZDt2j+8MH9M19D/ABMg8zwE8q8mC5jf9cV4D8SLeKSO1cx7P3yMxJxkHtXiY1WbZ+pcLtSpKD7nPa/NH/Z0DbNjyMxLHqc1zvhX/R9Xu22sWVMZzWj4mmzbwKrMfm4rH024Ftq0LOcKw2ttPJrw4/Ej9OqR5aLS7HvjWvmfCfScj5vMDHjHdqi+ENwi+JtUWNSjvANxPTAOf6Vo69biH4d6JFnydyq2c9OM/wBao/A9UOs65MxYKsagMRkcmvdh8cT8uxEr4Os33Z6Q0hLcDGTxUnGMd6Y2AwC8gUozXqH5w9x3brTtw2+tR/eNP4TtQSxQeKPMG7/Gk+9TWx3piHfjx7VIq5qONTtHNOLbeOc00AvGfalbkcU1j8ooDfL70APXgCk3dqTdletKrCgQ7gLn9aAwPFITSrwKZIp9KOc460lG7vQArH5fU5pRlu+KTAwD2pVagBfuqcde1FKT2xSrj0oA6YDrzzQzDOKGHze9C+lamQvRaZtJapGxtxQrUCGhcZBpdu3rTs0bhnFAriBucChmwQAcgUfxfj0pWwV9T60BoNXrTWxuAp4pCBuNAyKRduajx+dTyA9RwKiKFTjFJgRqpZuDThndjt3pG+tKD3qSxWU5G0c1a0+PddRq/PNVPM+arVg2LoY64JB/Cn0BbnhfjjVGu9S8QX0xOPtBijx2C9K4qxuBofg+S5/1kt87O+487ea3PFczzaDdu/zGa8dc98ljXMePJBb6XY6erKSiBFwTnn/Ir5qu/ebP3fKo2oQikcfpdq+qXkd4waO0jfEZB5yOc1t+JNak1K42SAtHEAC7E5I/xqKO6Ok2A3f6m1TbG23G5zVTwzp8/ibWrXTY8zXV5IFZiPugnk/QCuKN27I+iqyjTg5y2R7t+z74Xe00O71mV8PdRlIgTxsBxn65FemrHjg1Fb2sWk2UGnW0flwW6iML05AxzUq+/evqaNNU4KJ/PuZYt4vEzqtjsBW45pvJBHU560vfgHFLuCqAOtdB5I5fukD8KXtjvS9FpKBGd4stTeeB9ajOCqQmQfUc184fFa4dtBtF3FlZVfLDuOMV9KeIpPJ8J62xOC1q49ulfOPxQhWbS7CIkcWqsfqa8jHbH6XwldtrzOA1zzJbOxPyhCmRmsPUg6xwMmA3mqM/U10PiMm10+0Vl27UAB9RxWDfK9wLRBhS86AEdRk9a+fjufrdV/u2fTPjKzk/4QvQkcMvlooYd920VT+DS5HiBtg3F0H681oeN1nh8O6HFO5lnjjO9+m4hQM4qp8H5d9jrLFfneUZb1/z/WvoKa/eI/IcVL/YKj7v9Tvj82VYKG6HFG3qM01cjnOaAeeDXpHwLBQeeeadt3MOcUmD9KE/1nNBIu3b70YA5NDNSjnB7UCBQfXjtTimabtLE8YpPm/CgYpT5utLtFLzj3pvLDrVEgzcYpV+XmgdCKVVOOnFMBwIpefpTc80M3IoJH80mBxSrR1oEHHTpSjOB2NNDYbFOLbhigBM98inqfl5pBjgd6XfjigDps0hbpQ+NueM0ny7Rk/0rUyJFy3LdPSmnqcZxSsAUP0pu4baAJB0FM3/ADkHrScnpSpGAwznFAh+7Dc8UM2TSPyxIBxSdqADcOKXd84JPFNb/Z6UnLCgB/O5eeKjbncAdxqRcjryB60xmy3A6+lAEPlkLn9KYhOcMMc+tTn5c/lRtz7UrDuNYDsKn05v9LQEZHI+nFQn5fSpbPm4THrSGtz5x8bwPp+m6lA5O61vmd1x1XdnPtXCeLoX8STWctjJ8r7SDnoMYr1j4vXkGn+MNanaIzWDwhbhlPCtjr/n1rwTT1VZHNhf7rXcSsffmvlcS7TaP6CyWLnhoT20NHVpobGb7Bv89bdQZD/tele0/s8+BHtI7jxTdpsEqbLRW6qM9fxwa+dPsV1rXiK0s494kuJVj29zyBX3LZ2Mek6LYadAoVLaJUHPcCtsDT558z6Hk8V414fDKhB6y39CWTdISzHc5PU9aB93Bpm7a3P5Uv8AF6ema+iR+LslUjJGM5pr9fl4pY26jpzThx1+9TJGqvGM/jQG+bnmnMc03b8uaBD7jTxqWl6janGJrd1GT7V8w+OLdpNLgmPzIgEeVPGfSvqe1YpHO+eFjYnP0r5U8QyefornjCzEZ991eVjrWR+jcI3dSXbQ4zxpMrW9lHtJGOCKzI8SXelqy4Y3EeMj3q/463KtsD8h2jnpzUUKtcaxokLOpBni579RXz0fjR+uV9KEn5H0F8UJH3aagDbUiLEKeo4qX4VRRr4bu5hGQJLk5ye2BWZ8XLww3llk4Cwc7Txya2vhbG0fghJXLbnuGIYntgf419DT1qn4/jly5f6s6rzBj5SPSlHHPWo1XOSOKfn5cZwK9A+GHEnfil2kfTFMX9aerCgQjN1p6DdTDk8AZwMmnKpH0oF1FYFeetNx6d6ezfgcYptUA5VO2lbpTQ3rS7smmSC+9DNto2jHXB9qaPmbHegQ9WzyRQOaNp4x/KnYIoAXjpUasdxyOOxp+M9DSbaBB0570h+bGODT1x69qa2GagB3OKXdR7CkZueaAOqCnOR0pmxm5p4BC479qGYBeOa1MhNnHrRtH4UNlsc0HG3rmgAXKqe9H3Wpy4256Cg4H9KBBkGjjHJoyO4pOMA80DFx8oo4WhWJwDilKfNQQN3evSl+VcEDFOwNox1pjfK3PagAbG33ph6gnjH60/Zlc85601vyoKI8lie1ZvirxNB4R0SaeXabp1PlqT0GOprat4TJMAhG/B259a8E+OF5rU+rGzkt9xMGVEIz+v4VyYio4Q03PeyfBwxeJjGo9Ec/b3Da34dvru6y8VxIxOf7ozXnOh+H4NHjkvguImdguemPWvSrrTTY/DrSIVkAWdAW5wcnk1xPjS/a28jQ7VVaeUCJFA7txmvnKkebc/bcLUVOLjDY739nPwqdW8QX/im7hV7O3BhtdwJw2Rkj/Peve5GeQszHqciua+GPhubwT4Fg0mcKJQQ5ZT1J5NdEsbMo5x7V7+Fp+zppH47n2NeMxsmndLRBxnPWlb2NCg7s05hXYfNgilevrT/4cHmmKNqj0qQY+tAhP4aF5o3fNinCgQ52K6Tqh/u274HvivkjxBbztpXmY2oshLc4719SeLL7+zvCt2yna8+I1x1618x6nBJ/ZeoO5+USMCenevFzDVpH6lwhDlhOfc5Px5t+yWrqCfkAwT71X0ZTNrWjBYmkZZo2Kr1PNT+MGRrW2Xy2bEYxVj4d25m8aaSZPljR1PXvnP8ASvEh8Z+nYj/d5ejPVfihfH+0rgiT5PKUBW57V2/gWM/8IbpSiFo1VSTz1J5zXlHjrUhca5eRrllkl2ORxnnHH5V7hpkaWej6dAgCIsCDOec4r38PrNs/Ic6Xs8NCHmS+X8xAI/E05cleTTvvHAwcntTsY4716J8MM43cjNLt+YHODSlecmnbeASMe9AgXpnqaPekY/7NG72oAXrkjmhh8pNN55pOT9KYh+BjP40m3LZoGce1KrYpiHcUd6PeimQOUhR1pSajKkkelOUFaB3HKDx6UPw3vRu7UxlPJoAFO45NPFMhb5sGpFADE96BDS2F603bu5IqRh82TijaKAOoHsKGYUv3kJ70j/d961MhnPUU4dOeKFwcGkYndQA7b8uKTcOPWmu34+1IrfN04oAlwWPrQvK5pFbI/wAadwq49KBMVVJOTS03PagSc4PWgkU4HB4o28imMvzFs9evNC8NuJoGSv2JFQlgzAAfWpGbdwOtRsvoeaAMbxzHLJp8dtYO9vfMm8OjEcZ6Z/OofD/h24fTkOpOk92YmiEmSSoI4rZmjM7Iz8lfu0srHaB0rJwTd2dtPESppKB8x+K7jxNpsf8Awj0ugzXJtZWWG5jRiGXJx25Hv9K0fhn8F9af4h6frniWMJDHH5qJuztYDgEetfRf2yVVwWBx0JUGqzbnYlnLE+vauFYOPNzN3Pq58S1fY+ypxtdasfc3P2iQjbhBwAKrE78heDUhXBxSBdvOK9A+ObvqxI1I68/WnhuDzS87gRSOvzZXv3oJBflPt6UrHd9PSkAHXPOKQr81AhM/NUjsR06GmKuTSSSbeDQM5r4lyi30izTB/es2dp6cda8MmtTJ4R1hn+/DJj65Nex/E+/jj+xx53BY84+teXW9tI/hLxJCRjnzVycnb1z+leJi/emz9Z4cXs8MvNnmPiqZ5I7Xb8pRApA7itHwxfCz1qC7VV8xCGIrK164/d2wQ7/lAY1NoXmTagkSxhxIAuemDXiR+I/Sa0U6LTO6vZo9X1TT4pYxtkuAC6nnk17xJDDH5cUYZVjXADHJrwzw7p5uPHeh2vm75Ek8xweAMV7teFJbyR1BAJwPTFfQ4XZs/G+JJWlCCGr8uPSnt68U1FwuDwe1KWO3Ga9A+IFAHHf1pw9ewpmaDgUAG4dDjPrSjOKaoLN14p+znAIpiAr8uRTdm2pR8q4psmdvBpgJ/DnpTcjtx9aVVO2k+7QIfG3ykGkJO4AflQq55pD1xTJH8mheKF6jJpzUCAN8uKT7wppPek6e1AxyqT9BT8+lN3ErRnIoEOyCtA5pNpH86T8aAOqU0hHrSLIFFLu3DNamQN04NJupeDTOjEE0AHBNI3yue9OUfNxSD5Qc8+9ABuw2QcGpdwAzk1GVJ+an/e4oExce1Iy4zg80bjwODTuTjJoJEYcZzkkUKu7nPSlK4pjdRQBKcHnHH0ppIPSkJO0gdcUzeFXmgBOuT2qFsls9QKmbLd8ionXHNJlIibG7NN3c08ndmmAc1JYjMAfU9aPvAUu0sMdCaZHE0eQWLZoGSBdwzjikY/NjqKTp34oz0NAg3BSO9ObBWm8UbgV7UAIq4brxRJD50ijAyTinYPHvT4YzJMgH94CgaPKfilP5OvXMecxxwqoAHfFYni2zTT/D92bcbBNpKyn1Jp3xSuGk17U2yXVpQgb06VofEq3TTfC+lu+QZ7HyGbPX5Rj+deJW15mfrGWv2UaEO582XFw7xwluAoxW/pML281u8a5fdk46YrnvEkD2sWAcoGGOx69K6W1uJNLt4rgllwBk4zwRXhx+I/S638PQ9M+FNh/anj2a5jUYtYtwB65PFewyMGlYhcc84rzj4GWpOn6xq23m6IEZ6cd69FU56nmvp8LG1O/c/CuIKvPjHHsCk5oZupPXtTuMc1Htyp5rrPmB0cgOPWlxupkfyN708jPIpiFGFzSnLd6TrS9M96YBzQoy1OOMUmKYgYj0/Gm7OtKynHrRg7ev4UAIrBhjvTwo7cU1VCnPWncn2oELtxnmmMrN0p+cZppyehoEMwe/Wn7vWhVOOaXGTnNACheRwaDgHFAyw4NJ/FQIdk+uKNtH4/hS/pQB0hzz606kz0NOGG71qZDSPmpeDx3pR60rDtQBE2DQuc1IAKNvfr9KADGBTkUbcg03HtSj9KCWIW+b3pe9Jw3GeaT9aAJMfN8vPFNag0NQIYxycg47U7bnFLxg55NNbNAxjEq3tUbenWnN3IpgXnmkyhMccCmBs1IWGT/SozyAcYzUlC/jR3NIKMenFAB2yaRW70NyM+1IvY5oAYw3Mec0uSvTmlc+lM3HrQA8setWtPkVLje3AVS36VTLFsmpFC/ZLt242wuevTik9EaU1zTSPAPEk32rWIRJ0nvM7e5+au/+Pul+Z4P0YoNojuI1I6HBH/1q4DT4jqnjLR4T8+Z1zx05r0r9oLUDZ+FdPQIx33KnIHoDXjvWE2z9Nu6eKwsEfJXjrPnShRtRDxgZwa2dXikj8M2izZEzRqcfX1rC8YSSS3Um0gjdkjPv0rqdeun1HQLaWaJUkCKpEZ/WvDh8R+n121TR9F+BdJTQfA2j26LtLQq77hg5PJrY3L1P5VS0D9/4X0aUls/ZEz+VWd3zAY4zX1dNWgrH88Y+Tliajlvdku7d0GKTb3HWlaMhtwOBmhW3Ng9a2POYKoJyetKQc04jim9DkdaYhV4707d19aZ6U/8AlQAm7rRQ2B16+lJ05xTELwPpS8df0pCwIwPzFN3BV60CH4+XOcCkXv2Pamrlgc5+tHegBS204peTz2pNtA+9QIlj6f1o3AVGGIbI4pwbPGKBCbTuz2FKcn3NPWkK7uh+lADVyc9+adupwXjpTcUAdK33R6UKaTA5FKq4rUyHLzzStkYGaafamW9xFcSSiOVXaPhlHOKAJN3O3oaauR6mlZcsDSc7sDrQBJnHXikLD61E25eOlG7HtQImbgZo4qINk0oagLDvvEYpSCvB4pPQjikY9aBC7vyoxu79qavtSOSq+lAxrLtPNNY4XPQUxlYNk9Kdg7fakMafmUmmfdXPSnbS2fSndV9akZDuPHpTulKR81IwAU89qYwY9ABSFunPGKauKGJB+tIBykd/wpNwPGKQN8ueppjMW4A5oBEo+Xr1qtrNwLfw3qzAbs27Lx71KzHpzWV4wk+z+D9SYN98BD+PFRP4WdWFjzV4LzPJ/hzB5nxEtEYMdqs+e44rr/2gtQUaPpVsytli0g49AP8AGsL4Sw+d46dpCHMFuRu/H/Cn/tFXZGp2sAYgR2+fzP8A+qvInpQkz9Kpx9pmtKPZHzhrCwyXW3GN0gznr15rrdajhh09IlDY8gfMBntXJeT9u1PeXICnJwfyrtJXWbw1KXKqyRhOnJ5ryKauz9ExcuWFj6L8PwlPCOjfMcLaR8+vAqwoDEdqi0lgvhjR4Wb5ltIsAdfu1awOMDivqafwo/nvGa15+rG7yrbcVH8yt3NTKPl+lG0fjWljiEVtynnmlYbVpjcHOc0bqYhwY7cE0p5puOafu49qYxOwoZgy/wCFO/Co2XrjqaCRc/LwaTPen7doA796CvFAgUqBihmpqqacF5xQIBzjmncL3zQF5pGDHnHFAC+9OXBwc0zaaACtAEitkUfWmqfel3bvegA3Hp1AoP1pdvpShaAOkBw1IQetDcHrS+3Y1qZDVcbiCO1Zmk6LHpd1dzxuzfaGzhu1arIKZgL3oAf5meO1GfmpqnocU8fezigBpwzU7aBzTG+8aUsfWgBu7OcDHNPVSWz2FM6dKNpyTQA9yBzSbzjIOKa3yginqBtHr9aAGnpx1prdqcV5pMYXNACMdymmfw1J1GKYxC+1IBpYbenNJnC4pcfLn3pM98Z9qQDVXnNKx4oYnd147ikbvxxTGNX0ySaT+L0pFzuxnrR3I6igB4IHQYpjLwadtzSN0wakYwDr61keOpPK8HXCvtw8q8MPStfB/Cua+Ka/8UpZZPluLgke4xWdV2gz0MvjzYmC8zl/g5Cq+MNSKcotsOo55NcZ8eNUa48a3ELPuVYgACenHau2+BYaTxFrhbllRBnHua8u+L2248cX0gOQXZc59DivExDtQP1HLIqWatvojzvRkf7felHOPL64zg9q7PVLdrHw3BHLgyzKDvHviuB0q9ntdUu4EPyXBCkbOoz69q77xdG8f2W083Kfu1XHvivOon2OOvY+i7HC6BpAB3n7MgLd+gp/1p0SC2tba3AI8qFFywxnilADDFfUwWiP59xEuarJ+YuOKax3nnjHtT/u5FN3DpWhziLH1PX1qRVHekVsUcr1xTIEY4UkCo45BJxke/NPbpntWffW8rNHJbttcHn0IpDNBj+NKq5oWE4FL04piE2kHmijdS0CEVqXPNNA5zUgO2gREJVaUqG+YVJ7k5pvljfuxz64pxAZMdDQAK2RT9uRTFU04natADfbpT14XmmqOBil53YP5UAOU7qQ/WlDDmmlT3NAHSsCef6Uqt79KGOBinKOpxWpkNLZalAycAU3b3FKRtoANpJ9qFPzYpGPb+dIvy8k/pQApPNNLfNg0773TtTduWFADifwFKcD2NMIwxpetABI3tQMDGRxSbSM5pc5THf60ANdt3407G5eeRQy/jRuG0DHNAhvt7U3nuMinsPWo2BFAxD8zYHNKpHQ9aTntTeFOcUAK3ysfrTT83TpSswxikjYhT2oATbjtzSdvel5HUUjA8nIx1pDAyFcgD86APU1H9/JzTtx3e1JAxf4a5H4tTKdL0qDCh5CxU9sAc112d7VwPxqY/bdDiAJ2xO3X1rnru0Ge3k8OfGQRU+BL4uPEcuMbGRcj2BrxT4g3by+IbtmGPMy4Gc5BJr174OzDT/Cfiy6Y8iWTJ+i14D4suzdaxcNt8vykVcYxz1zXg4qX7uKP1jJ6V8dVn2sjF0Pb/wlMUbZcykLtJ+6M16RrNv/AGj4s0e3+VhLcxqQxABAx3rg/BdodS8S2zIoEsYJOcZPvzXe6bZ3N/8AEbQYFVpWE4kZsfdwRkn8q5qG57uaS5YNroj6Nv4zJIjbsHbgAHjioV+U+v0NWbxSt8yEr8oGMDrVaZwq4HAr6qOx/Pc9ZNhuB70FMsT1pq/wk0/r2qjIPoc03czN1zSsNuKVeW4oAay9u1P7cU05ViMnIoVvxoESZxwKGbK5pCRtLZpFbcMUCE3dPWpBgr71GVNOXO3p+VAg9KT73vSsPTrSgfLzwaAHcYxQo796iYle3NO3cE54oAkpp+9jGaZuywpT1/8ArUAP+7jFGec96PvHOOgo285HNADG60cn1pd2F5GfpQW9v0oA6YMCp+XFKj54yAPrUaZ3EscilT5ScHIrUyJuKQcjFN3dqazHI+tAAV298U5SCBjGaikk5welP3bVxQALuXnrTgfm7VCzfMMU/fjFADm5JNGDtzUfmc0NIPXIoAkzhfekU5bGQaarDAJ4FG5V5B5oAkam7qTduyabuGfWgQ5uFyelRq27tSsw+7mmfd5A4oGK0nI7013HQUblb60YwBSAbmheuQetIzHjv+NJgq27sfSmA/dtBBHvUbSdAenSms/ze/WiTleMikMI2+Uflml6ZNN4VsYwMdD1+tLt3HH86QMfHyetedfGy4eHxBosY3AtbNjAya9DHUDPeuB+KR8z4geG4JeUa1cY98H/AOtXLif4Z9Bkf++Js85sdcOl/DfXrfzNs099t+U+pX+gNeM+Kri5k124R2L7wD6dPWvS5LoLJJpijAN35kkbLjGK808VSCTxZdBDhFAGWHpXzVeTlZH7fltNU+adtzR8F2/k6gJwsisiElk/iHcc16N8J2TUPitYyqWmEUDuzdl4wK898CgJf37mVxGIe5+UV6b+zzb2174y1u4hYyJa24VJCOMk/wD66vDL30jkzyfJhakn2PcLhv38hJ+bJwf8KjYK5AHWmNlpCzHnqaUHcM8A+tfUI/BJPUVlC9MA9KXv7e9MyRGe9IJNoIxkd+KZJJ1p4+VRkc561D5gGMc/pQ0hbgDpQIlZsn1/GmqRzkUwMfQ/XFPVcngZzQApU7uaXgfWmb+p9Peo/MG7npQBO7/NxzQvr1FQGTpg5FO5YcUxEzNleKFPFQ8+9LvK8GkIlbnkUxTu46mmFuKTigCYL68UjGkU7h7UN6UWEKr/AI1KsnFQLweetSKw6mmA9iDjvTcgYqNm9PrTGl+bpmmB1MfzAZOe9KFLMRSqo7CirMw5XvmmsTzT9uQTik7YoERNFvGffNOZgFxmh++BTf4Rn16UDDduPP507JqMsoJOcUvB5/WgB/Hf60M284Hakz8tNKlV30ASEny/fsajbOKCSyAZprbuB0xQBKo2rj8abu5OODTg25cn8aYw5z+lADvXJpoYEk44zinL9e1IMd+PegCN/vZFCt83tQ/qBmjtQArZxwKhY7emTUm73xTVjkmkxGuc9TQNasRssRzjFBcBhxge9W4dLZWAmdFXruY8VG1nI+9goznA3MOf1pXRfs5voQMVb5jx6UBj1xUF1qGmW+oR6XNqUMOoSLlYCeasXEcNpCvnXtvC+M5aQDNTzx7l+wq/ysbv2sCc8V578UrxZPiV4XgbC4g3hu/JPH6V6FamzuuYtQtZz1IjkDCvJvjDNEvxM0V1cEC0IBU9wT/jXHiZLk0Z9HkdCf1tKS6M838UB9O+IuppH864E3UH71cJeafJqWtBEjyWPzMOODXTz3Tf8JtqUzNvPlgnc2RVDSriN/FALnau0nnua+bnq2fteHTpwS8i14Z8P2xXVbeeQLEAp355JHXIr0r9nXSUhs/EeoJja84hAAxwv/668w0nUoVk1RmBDF2A2jivWfgl4i0HSPA7Rz6vbw3F1O0jLI20g5Axj6Cu3CqPtEz5rP3VeEmoq97HpbfSmY465NRWetaHqHmCLW7KQggcyDg1eNsEVnR0mj67omzXuqUXsz8gnQqw+KLRBsO75v8A9VNkUKRg5z1xUkjFcHGCe1M++w3D5R17VZzNWItjHn0HFO+7xyc+3NIys0OR9B7VXS8/0pLOQfvXQsjAHtQO1yyo+apGHPQ496hiQ/Nn5cf3vWn78gc0yRy4zk1HNCZOhI+lOVueOD2pzE455FADI1CqAeSKkbG0HvSFgcUu7jHaqJEDUxmLH096kX3zTW7UgF2naMHik27vb6Uq56UdGGfypkjlBFOJ9KbnNIKAFYfL0pN3zYzTxzx1pu3b70AIetKQOOn4Um3rn8KOPWgDp97c5NO52j1pJOcUq/dwTzVkCnpgcmkb2NI2VxSEHdzQA0Z5zSsvtRg/Wk53e1ACbQOab07cVJI3rUTZ28GgB28fQUbg3APHWoWyjEE80iH95k8D1oAtpjrUQy2SelSKw2gkZ9KSTG0EDIJoEB+UZH40zdlScfrSq/PrRu+Vj90UDE3c+opwXuOlNRgoGenvRu+bjpQAfWm43N1qSG3kuJNqAk4qOW8063+WbU7W3f8AuySAH+dJtLdlwpzqaRVwb5RXC/FTxBPYataabBcNZQrb+eXXgyE9Rn8K7htR0g4/4nFoQf8ApqM/zrI8R6Z4W8SRRf2reW03ljEckcnzAegIrnrPmjaLPYy+m6FdTrQbXoeDazFqOsbw2u3Hlqu5E80/L7YrC87XbPEa6/fQ7OflmOfwr0PxL8P/AIf2bzbdcu4ZMEho5CwX8hXCXHhfw2jg/wDCWXTwgjIkjJJ/SvGnGSe5+m4epQqRvyfgUG8PtdX7ajcapd3F4eTI8nzZ7HNTXNvCWYG4mllx96WQmujtdM8A+TEJtfuvNRcEoWGf/HabJp/w8jhMX9o3UshZm8z5sjPbp2rPlfc6/bUr25fwOetYynMUjI2P4XIx+tP1DdJHFPI8ks4OxGZiSB3qzIfDlnZy/ZNTuGl3cM8RPy9gaytQ1oMkMVrC0qqQfMYYDVnJ6WZ20YKUk0jHZFs9SknJZmkG07qyb6+it9QhmT/j4jOSM9R6VuaxdRNLGvksjFufaq2qWkbMs6xJukXkgcn3rkZ7sfMz1n22dzJhleXLKPrXYeH5NBt9E083UkcciqN6snU96881nWJY1W2dcFRtRwMcVsafoY1ixR5rpo0XqBRCTi9DOtRjUj7zOvvtO0y/u/3bIIHJIMJwB+VR6hJqHhzTZZNJ1q4t3CllTzeGx2rDjiXTYNkbHHQ/WqV/am+GDKwIGVIP9K29pKxw/VabdpK6PX/2ffjDc+LppdC8QSpJdRoXguWABx3X3r2dtPbb8kiSDJ+6w6V8UWfh6OzbzoLiS3mXoyNgitCObU7PmLWb5Cw/glI+tddHGShHlkrny+Y8M0sTWdSjLlT6H1nqmq6XpaA3mp2tuynDRNKC34AV574++J4tZo4/DjpObc+a8o/j/wBgH6GvFdJ1WJbmWK+C3JfpLKS0gNdfcXiR2ZWPTbqYbeHtoSa2+syqL3Tgp5DQwU06rue0+CPHmkfESyeSyf7PfwjM9nJwwPcj1Ga3Y057fSvEfgXoOof8JfqGtXFvJZwrGYtjLgtkeh+le3K5ZmIPPTJr0MPKU43kfGZthqWGxHJRegNhe3NGQ+R2oaOjiNeePeuk8UXjb7e9C/nTTnGaXB2+9USOxTMUqk9KceAe9IQnvSLk4zT8cA96b3+lMQ7GOtH3mxjH1puc0qgD60CHhT1oajJ/CmMPegBSR0ppQnocVIo+TIqM57UAdSWDZx0pGb5cjmkPDcU5uRVkiDpQx75pqk7TTloAF+bFBYbj2pZOGOKjb7wHbFACNJu6DFM3HdgdT60NQvBoAa3Dc1JDhR71E33zTtxBAHpQIlzt68c0hwy9eKQcuc+lPUAvQAxRn6+lNZW5p0n3iahZjuxQMfxjk0pwrA1H/EaezHg0CMD4jazeaH4Mubmwna3md1RnVckIeteHX2hw3It7i5uZL0SDeXVzjmvpDy0nVoZFWSKQbWRhkEGvnTxio0PXbu0sf9HtkkYrGpyBz7152Ki27n2+QVoKDp8uvcybrStCs73I3iJscPKePf6U+TWNJsW2wMhVfRixNZdxYwahcp9ojEu6QA5JHU+1e9fD34f+HYrKN10m3Lk5LMC38zXDCLk7I+rxGIp4eHNKNzwy/wDE+lzWgj2SCfPzMEJDCshtctHblJGHoIjzX2M3hnSYdoTTrZRkdIhTZNB00MWFjb5U8HyxxWv1VvqeYuIIRWlM+OJNZtFYDyW3c4XyyCPrVkakkyrts5zx1ERr63k8O6XcSCSTT7Z3DcMYxnvWlHpNlEuUtIVPtGKPqj7ifEUbaUz4xnvLtrYoNJvNufveUcU2CHWJVAj0W8deuTGRX2VPbxLASIkyM/wioIX/AHCnauf90f4U/qXmY/60taKn+J8jr4J8Xa1dRuug3Oz+FmHH41v2PwS8VahcIJrdbLaudznKmvpeS6lXdh9uDxtAFUppXkyWYkgcVccDDqznqcV4lr3IpHkUn7MNpqVjCb/V2WeMHIiC43fWsGT9nHXdPcrYatFc22ed4wa92jYmFQTxQpKucEj8at4Ol2OKPE2Pi9ZXPA7j4D+IFCb4I5zkKWjl5A9cVI/7Pl811HFKxgtyOZBJk/lXvBdvMU5OaS6dmRQTkA8UvqlMt8S41nlNn+zboTQNHdX10blh8siNtC1zurfsryKrtZeJpM5+UTDj8817kCduc803cdhHaqeFpPSxzx4hx8XfnPNfhv8AAfSvBy/adWlTVNSZgQxJKqOuAPWvTo51tIVjtoY4YxkBdgqu3GPpSr0NdFOjCnG0UeZiswxGMnz1ZDpGeXBOBjuoxmkUAdOlJSfxMO1bWR5jk29SQYZaaynaTjilUDbTR8y880kSKuB70m4dKRlHNAJ3fhQA4dPekV8n3pr9qRfvCqES5pFwW5o/hpV+ZeeeaCRKRW2kGl/hNLtG2gY7cT1pox9aRicUg+7QBKqnbj1pu3HpRuPmKO1IzH1oEf/Z)"
      ],
      "metadata": {
        "id": "L81CBFY-stQy"
      }
    },
    {
      "cell_type": "markdown",
      "metadata": {
        "id": "pbw8Bj0isq3Y"
      },
      "source": [
        "<h3>Đọc hình trên vào phần mềm"
      ]
    },
    {
      "cell_type": "code",
      "execution_count": null,
      "metadata": {
        "id": "h_JU-Q5bsq3Y",
        "outputId": "be89790c-2b38-4488-9136-6f4f581054d8"
      },
      "outputs": [
        {
          "data": {
            "text/plain": [
              "<matplotlib.image.AxesImage at 0x285f4a3b580>"
            ]
          },
          "execution_count": 14,
          "metadata": {},
          "output_type": "execute_result"
        },
        {
          "data": {
            "image/png": "[encoded data removed]",
            "text/plain": [
              "<Figure size 432x288 with 1 Axes>"
            ]
          },
          "metadata": {
            "needs_background": "light"
          },
          "output_type": "display_data"
        }
      ],
      "source": [
        "img  = Image.open(\"E:\\\\IS252\\\\Lab4\\\\data\\\\mnist5\\\\sample_1.jpg\").convert(\"L\").resize((8,8))\n",
        "img = ImageOps.invert(img)\n",
        "im2arr = np.array(img)\n",
        "plt.imshow(im2arr,cmap=plt.cm.gray_r,interpolation='nearest')"
      ]
    },
    {
      "cell_type": "markdown",
      "metadata": {
        "id": "rbWHAPipsq3Z"
      },
      "source": [
        "<h3>Làm rõ nét lại bức ảnh bằng cách phân biệt rõ những giá trị đen, trắng. "
      ]
    },
    {
      "cell_type": "code",
      "execution_count": null,
      "metadata": {
        "id": "05QQl5MRsq3Z",
        "outputId": "f6c4b45a-cab8-49bc-c25d-2804111bd446"
      },
      "outputs": [
        {
          "data": {
            "text/plain": [
              "array([[  0,   0,   0,   0, 155,   0,   0,   0,   0,   0,   0,   0, 155,\n",
              "          0,   0,   0,   0,   0,   0, 155, 155,   0,   0,   0,   0,   0,\n",
              "          0, 155, 155,   0,   0,   0,   0,   0,   0,   0, 155,   0,   0,\n",
              "          0,   0,   0,   0,   0, 155,   0,   0,   0,   0,   0,   0,   0,\n",
              "        155,   0,   0,   0,   0,   0,   0, 155, 155,   0,   0,   0]],\n",
              "      dtype=uint8)"
            ]
          },
          "execution_count": 15,
          "metadata": {},
          "output_type": "execute_result"
        }
      ],
      "source": [
        "img1d = im2arr.reshape([1,64])\n",
        "img1d[img1d>109]=155\n",
        "img1d[img1d<110]=0\n",
        "img1d"
      ]
    },
    {
      "cell_type": "markdown",
      "metadata": {
        "id": "tjWG8Gzwsq3Z"
      },
      "source": [
        "<h3>Hình ảnh chữ số sau khi làm rõ"
      ]
    },
    {
      "cell_type": "code",
      "execution_count": null,
      "metadata": {
        "id": "qjnkRsgusq3Z",
        "outputId": "17bf00f7-a393-441e-a94b-0a505115ab28"
      },
      "outputs": [
        {
          "data": {
            "text/plain": [
              "<matplotlib.image.AxesImage at 0x285f4aa1220>"
            ]
          },
          "execution_count": 16,
          "metadata": {},
          "output_type": "execute_result"
        },
        {
          "data": {
            "image/png": "[encoded data removed]",
            "text/plain": [
              "<Figure size 432x288 with 1 Axes>"
            ]
          },
          "metadata": {
            "needs_background": "light"
          },
          "output_type": "display_data"
        }
      ],
      "source": [
        "plt.imshow(im2arr,cmap=plt.cm.gray_r,interpolation='nearest')"
      ]
    },
    {
      "cell_type": "markdown",
      "metadata": {
        "id": "189dB11Psq3Z"
      },
      "source": [
        "<h3>Tiến hành nhận diện bằng cây ID3 và in ra kết quả"
      ]
    },
    {
      "cell_type": "code",
      "execution_count": null,
      "metadata": {
        "id": "FkuKxjDDsq3a",
        "outputId": "55b13a47-5d3f-4f0d-baa8-1afeba348a5b"
      },
      "outputs": [
        {
          "name": "stdout",
          "output_type": "stream",
          "text": [
            "[1]\n"
          ]
        }
      ],
      "source": [
        "y_pred = classifer.predict(img1d)\n",
        "print(y_pred)"
      ]
    }
  ],
  "metadata": {
    "kernelspec": {
      "display_name": "Python 3",
      "language": "python",
      "name": "python3"
    },
    "language_info": {
      "codemirror_mode": {
        "name": "ipython",
        "version": 3
      },
      "file_extension": ".py",
      "mimetype": "text/x-python",
      "name": "python",
      "nbconvert_exporter": "python",
      "pygments_lexer": "ipython3",
      "version": "3.8.3"
    },
    "colab": {
      "name": "Buoi03_Bai07_TH.ipynb",
      "provenance": []
    }
  },
  "nbformat": 4,
  "nbformat_minor": 0
}